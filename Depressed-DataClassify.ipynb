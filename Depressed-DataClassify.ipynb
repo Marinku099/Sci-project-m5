{
  "cells": [
    {
      "cell_type": "code",
      "execution_count": 1,
      "metadata": {
        "id": "njFYGKthx0YM"
      },
      "outputs": [
        {
          "name": "stdout",
          "output_type": "stream",
          "text": [
            "WARNING:tensorflow:From c:\\Users\\asus\\AppData\\Local\\Programs\\Python\\Python311\\Lib\\site-packages\\keras\\src\\losses.py:2976: The name tf.losses.sparse_softmax_cross_entropy is deprecated. Please use tf.compat.v1.losses.sparse_softmax_cross_entropy instead.\n",
            "\n"
          ]
        }
      ],
      "source": [
        "import tensorflow as tf\n",
        "import numpy as np\n",
        "import cv2\n",
        "import os\n",
        "from tqdm import tqdm\n",
        "import keras\n",
        "from keras.models import Sequential\n",
        "from keras.layers import Dense, Dropout, Activation, Flatten\n",
        "from keras.layers import Conv2D, MaxPooling2D"
      ]
    },
    {
      "cell_type": "code",
      "execution_count": 2,
      "metadata": {
        "id": "48EUIQuwhgNf"
      },
      "outputs": [],
      "source": [
        "import matplotlib.pyplot as plt\n",
        "from sklearn.cluster import KMeans\n",
        "from sklearn import tree\n",
        "from sklearn.model_selection import train_test_split\n",
        "from sklearn.tree import DecisionTreeRegressor\n",
        "import pandas as pd"
      ]
    },
    {
      "cell_type": "code",
      "execution_count": 3,
      "metadata": {
        "id": "m1q6Hk62Fx86"
      },
      "outputs": [],
      "source": [
        "from os import listdir\n",
        "from os.path import isfile, join"
      ]
    },
    {
      "cell_type": "code",
      "execution_count": 4,
      "metadata": {
        "colab": {
          "base_uri": "https://localhost:8080/"
        },
        "id": "ECQXl7YnG8MQ",
        "outputId": "e4727dde-557a-4ff2-da7a-f6fdfbfcbbf7"
      },
      "outputs": [],
      "source": [
        "#!git clone https://github.com/Marinku099/Sci-project-m5.git"
      ]
    },
    {
      "cell_type": "code",
      "execution_count": 5,
      "metadata": {
        "id": "tww5XneRH2_8"
      },
      "outputs": [],
      "source": [
        "# not sure the real size\n",
        "width = 450\n",
        "hieght = 550"
      ]
    },
    {
      "cell_type": "code",
      "execution_count": 6,
      "metadata": {},
      "outputs": [],
      "source": [
        "df = pd.read_excel(r\"data\\cdi-data-scan1266.xlsx\", sheet_name=r\"depressed-data\")\n",
        "#df = df[[\"ID\",\"Pt\",\"DEP\",\"Age\",\"Sex\"]] #1 = depressed"
      ]
    },
    {
      "cell_type": "code",
      "execution_count": 7,
      "metadata": {},
      "outputs": [
        {
          "data": {
            "text/html": [
              "<div>\n",
              "<style scoped>\n",
              "    .dataframe tbody tr th:only-of-type {\n",
              "        vertical-align: middle;\n",
              "    }\n",
              "\n",
              "    .dataframe tbody tr th {\n",
              "        vertical-align: top;\n",
              "    }\n",
              "\n",
              "    .dataframe thead th {\n",
              "        text-align: right;\n",
              "    }\n",
              "</style>\n",
              "<table border=\"1\" class=\"dataframe\">\n",
              "  <thead>\n",
              "    <tr style=\"text-align: right;\">\n",
              "      <th></th>\n",
              "      <th>QuizName</th>\n",
              "      <th>ZipGradeID</th>\n",
              "      <th>ID</th>\n",
              "      <th>Age</th>\n",
              "      <th>Sex</th>\n",
              "      <th>DEP</th>\n",
              "      <th>Pt</th>\n",
              "      <th>PossiblePts</th>\n",
              "      <th>PercentCorrect</th>\n",
              "      <th>QuizCreated</th>\n",
              "      <th>...</th>\n",
              "      <th>PossPt25</th>\n",
              "      <th>Stu26</th>\n",
              "      <th>Key26</th>\n",
              "      <th>EarnedPt26</th>\n",
              "      <th>PossPt26</th>\n",
              "      <th>Stu27</th>\n",
              "      <th>Key27</th>\n",
              "      <th>EarnedPt27</th>\n",
              "      <th>PossPt27</th>\n",
              "      <th>NULL</th>\n",
              "    </tr>\n",
              "  </thead>\n",
              "  <tbody>\n",
              "    <tr>\n",
              "      <th>0</th>\n",
              "      <td>เนเธเธเธเธฑเธ”เธเธฃเธญเธเธเธถเธกเน€เธจเ...</td>\n",
              "      <td>1130</td>\n",
              "      <td>1</td>\n",
              "      <td>13</td>\n",
              "      <td>0</td>\n",
              "      <td>0</td>\n",
              "      <td>8</td>\n",
              "      <td>27</td>\n",
              "      <td>29.6</td>\n",
              "      <td>เธก.เธ. 19 2024 03:39 PM</td>\n",
              "      <td>...</td>\n",
              "      <td>1</td>\n",
              "      <td>A</td>\n",
              "      <td>B</td>\n",
              "      <td>0</td>\n",
              "      <td>1</td>\n",
              "      <td>A</td>\n",
              "      <td>B</td>\n",
              "      <td>0</td>\n",
              "      <td>1</td>\n",
              "      <td>0</td>\n",
              "    </tr>\n",
              "    <tr>\n",
              "      <th>1</th>\n",
              "      <td>เนเธเธเธเธฑเธ”เธเธฃเธญเธเธเธถเธกเน€เธจเ...</td>\n",
              "      <td>2120</td>\n",
              "      <td>2</td>\n",
              "      <td>12</td>\n",
              "      <td>0</td>\n",
              "      <td>1</td>\n",
              "      <td>15</td>\n",
              "      <td>27</td>\n",
              "      <td>55.6</td>\n",
              "      <td>เธก.เธ. 19 2024 03:36 PM</td>\n",
              "      <td>...</td>\n",
              "      <td>1</td>\n",
              "      <td>B</td>\n",
              "      <td>B</td>\n",
              "      <td>1</td>\n",
              "      <td>1</td>\n",
              "      <td>B</td>\n",
              "      <td>B</td>\n",
              "      <td>1</td>\n",
              "      <td>1</td>\n",
              "      <td>0</td>\n",
              "    </tr>\n",
              "    <tr>\n",
              "      <th>2</th>\n",
              "      <td>เนเธเธเธเธฑเธ”เธเธฃเธญเธเธเธถเธกเน€เธจเ...</td>\n",
              "      <td>3121</td>\n",
              "      <td>3</td>\n",
              "      <td>12</td>\n",
              "      <td>1</td>\n",
              "      <td>0</td>\n",
              "      <td>8</td>\n",
              "      <td>27</td>\n",
              "      <td>29.6</td>\n",
              "      <td>เธก.เธ. 19 2024 03:36 PM</td>\n",
              "      <td>...</td>\n",
              "      <td>1</td>\n",
              "      <td>A</td>\n",
              "      <td>B</td>\n",
              "      <td>0</td>\n",
              "      <td>1</td>\n",
              "      <td>A</td>\n",
              "      <td>B</td>\n",
              "      <td>0</td>\n",
              "      <td>1</td>\n",
              "      <td>0</td>\n",
              "    </tr>\n",
              "    <tr>\n",
              "      <th>3</th>\n",
              "      <td>เนเธเธเธเธฑเธ”เธเธฃเธญเธเธเธถเธกเน€เธจเ...</td>\n",
              "      <td>4131</td>\n",
              "      <td>4</td>\n",
              "      <td>13</td>\n",
              "      <td>1</td>\n",
              "      <td>0</td>\n",
              "      <td>13</td>\n",
              "      <td>27</td>\n",
              "      <td>48.1</td>\n",
              "      <td>เธก.เธ. 19 2024 03:37 PM</td>\n",
              "      <td>...</td>\n",
              "      <td>1</td>\n",
              "      <td>A</td>\n",
              "      <td>B</td>\n",
              "      <td>0</td>\n",
              "      <td>1</td>\n",
              "      <td>A</td>\n",
              "      <td>B</td>\n",
              "      <td>0</td>\n",
              "      <td>1</td>\n",
              "      <td>0</td>\n",
              "    </tr>\n",
              "    <tr>\n",
              "      <th>4</th>\n",
              "      <td>เนเธเธเธเธฑเธ”เธเธฃเธญเธเธเธถเธกเน€เธจเ...</td>\n",
              "      <td>5120</td>\n",
              "      <td>5</td>\n",
              "      <td>12</td>\n",
              "      <td>0</td>\n",
              "      <td>1</td>\n",
              "      <td>15</td>\n",
              "      <td>27</td>\n",
              "      <td>55.6</td>\n",
              "      <td>เธก.เธ. 19 2024 03:36 PM</td>\n",
              "      <td>...</td>\n",
              "      <td>1</td>\n",
              "      <td>A</td>\n",
              "      <td>B</td>\n",
              "      <td>0</td>\n",
              "      <td>1</td>\n",
              "      <td>A</td>\n",
              "      <td>B</td>\n",
              "      <td>0</td>\n",
              "      <td>1</td>\n",
              "      <td>0</td>\n",
              "    </tr>\n",
              "    <tr>\n",
              "      <th>...</th>\n",
              "      <td>...</td>\n",
              "      <td>...</td>\n",
              "      <td>...</td>\n",
              "      <td>...</td>\n",
              "      <td>...</td>\n",
              "      <td>...</td>\n",
              "      <td>...</td>\n",
              "      <td>...</td>\n",
              "      <td>...</td>\n",
              "      <td>...</td>\n",
              "      <td>...</td>\n",
              "      <td>...</td>\n",
              "      <td>...</td>\n",
              "      <td>...</td>\n",
              "      <td>...</td>\n",
              "      <td>...</td>\n",
              "      <td>...</td>\n",
              "      <td>...</td>\n",
              "      <td>...</td>\n",
              "      <td>...</td>\n",
              "      <td>...</td>\n",
              "    </tr>\n",
              "    <tr>\n",
              "      <th>473</th>\n",
              "      <td>เนเธเธเธเธฑเธ”เธเธฃเธญเธเธเธถเธกเน€เธจเ...</td>\n",
              "      <td>543150</td>\n",
              "      <td>543</td>\n",
              "      <td>15</td>\n",
              "      <td>0</td>\n",
              "      <td>1</td>\n",
              "      <td>23</td>\n",
              "      <td>27</td>\n",
              "      <td>85.2</td>\n",
              "      <td>เธก.เธ. 18 2024 04:35 PM</td>\n",
              "      <td>...</td>\n",
              "      <td>1</td>\n",
              "      <td>B</td>\n",
              "      <td>B</td>\n",
              "      <td>1</td>\n",
              "      <td>1</td>\n",
              "      <td>B</td>\n",
              "      <td>B</td>\n",
              "      <td>1</td>\n",
              "      <td>1</td>\n",
              "      <td>0</td>\n",
              "    </tr>\n",
              "    <tr>\n",
              "      <th>474</th>\n",
              "      <td>เนเธเธเธเธฑเธ”เธเธฃเธญเธเธเธถเธกเน€เธจเ...</td>\n",
              "      <td>544151</td>\n",
              "      <td>544</td>\n",
              "      <td>15</td>\n",
              "      <td>1</td>\n",
              "      <td>0</td>\n",
              "      <td>6</td>\n",
              "      <td>27</td>\n",
              "      <td>22.2</td>\n",
              "      <td>เธก.เธ. 18 2024 04:35 PM</td>\n",
              "      <td>...</td>\n",
              "      <td>1</td>\n",
              "      <td>A</td>\n",
              "      <td>B</td>\n",
              "      <td>0</td>\n",
              "      <td>1</td>\n",
              "      <td>A</td>\n",
              "      <td>B</td>\n",
              "      <td>0</td>\n",
              "      <td>1</td>\n",
              "      <td>0</td>\n",
              "    </tr>\n",
              "    <tr>\n",
              "      <th>475</th>\n",
              "      <td>เนเธเธเธเธฑเธ”เธเธฃเธญเธเธเธถเธกเน€เธจเ...</td>\n",
              "      <td>545150</td>\n",
              "      <td>545</td>\n",
              "      <td>15</td>\n",
              "      <td>0</td>\n",
              "      <td>1</td>\n",
              "      <td>28</td>\n",
              "      <td>27</td>\n",
              "      <td>103.7</td>\n",
              "      <td>เธก.เธ. 18 2024 04:35 PM</td>\n",
              "      <td>...</td>\n",
              "      <td>1</td>\n",
              "      <td>B</td>\n",
              "      <td>B</td>\n",
              "      <td>1</td>\n",
              "      <td>1</td>\n",
              "      <td>A</td>\n",
              "      <td>B</td>\n",
              "      <td>0</td>\n",
              "      <td>1</td>\n",
              "      <td>0</td>\n",
              "    </tr>\n",
              "    <tr>\n",
              "      <th>476</th>\n",
              "      <td>เนเธเธเธเธฑเธ”เธเธฃเธญเธเธเธถเธกเน€เธจเ...</td>\n",
              "      <td>546111</td>\n",
              "      <td>546</td>\n",
              "      <td>11</td>\n",
              "      <td>1</td>\n",
              "      <td>0</td>\n",
              "      <td>13</td>\n",
              "      <td>27</td>\n",
              "      <td>48.1</td>\n",
              "      <td>เธก.เธ. 18 2024 04:35 PM</td>\n",
              "      <td>...</td>\n",
              "      <td>1</td>\n",
              "      <td>A</td>\n",
              "      <td>B</td>\n",
              "      <td>0</td>\n",
              "      <td>1</td>\n",
              "      <td>A</td>\n",
              "      <td>B</td>\n",
              "      <td>0</td>\n",
              "      <td>1</td>\n",
              "      <td>0</td>\n",
              "    </tr>\n",
              "    <tr>\n",
              "      <th>477</th>\n",
              "      <td>เนเธเธเธเธฑเธ”เธเธฃเธญเธเธเธถเธกเน€เธจเ...</td>\n",
              "      <td>547151</td>\n",
              "      <td>547</td>\n",
              "      <td>15</td>\n",
              "      <td>1</td>\n",
              "      <td>1</td>\n",
              "      <td>32</td>\n",
              "      <td>27</td>\n",
              "      <td>118.5</td>\n",
              "      <td>เธก.เธ. 18 2024 04:34 PM</td>\n",
              "      <td>...</td>\n",
              "      <td>1</td>\n",
              "      <td>A</td>\n",
              "      <td>B</td>\n",
              "      <td>0</td>\n",
              "      <td>1</td>\n",
              "      <td>B</td>\n",
              "      <td>B</td>\n",
              "      <td>1</td>\n",
              "      <td>1</td>\n",
              "      <td>0</td>\n",
              "    </tr>\n",
              "  </tbody>\n",
              "</table>\n",
              "<p>478 rows × 120 columns</p>\n",
              "</div>"
            ],
            "text/plain": [
              "                                              QuizName  ZipGradeID   ID  Age  \\\n",
              "0    เนเธเธเธเธฑเธ”เธเธฃเธญเธเธเธถเธกเน€เธจเ...        1130    1   13   \n",
              "1    เนเธเธเธเธฑเธ”เธเธฃเธญเธเธเธถเธกเน€เธจเ...        2120    2   12   \n",
              "2    เนเธเธเธเธฑเธ”เธเธฃเธญเธเธเธถเธกเน€เธจเ...        3121    3   12   \n",
              "3    เนเธเธเธเธฑเธ”เธเธฃเธญเธเธเธถเธกเน€เธจเ...        4131    4   13   \n",
              "4    เนเธเธเธเธฑเธ”เธเธฃเธญเธเธเธถเธกเน€เธจเ...        5120    5   12   \n",
              "..                                                 ...         ...  ...  ...   \n",
              "473  เนเธเธเธเธฑเธ”เธเธฃเธญเธเธเธถเธกเน€เธจเ...      543150  543   15   \n",
              "474  เนเธเธเธเธฑเธ”เธเธฃเธญเธเธเธถเธกเน€เธจเ...      544151  544   15   \n",
              "475  เนเธเธเธเธฑเธ”เธเธฃเธญเธเธเธถเธกเน€เธจเ...      545150  545   15   \n",
              "476  เนเธเธเธเธฑเธ”เธเธฃเธญเธเธเธถเธกเน€เธจเ...      546111  546   11   \n",
              "477  เนเธเธเธเธฑเธ”เธเธฃเธญเธเธเธถเธกเน€เธจเ...      547151  547   15   \n",
              "\n",
              "     Sex  DEP  Pt  PossiblePts  PercentCorrect                QuizCreated  \\\n",
              "0      0    0   8           27            29.6  เธก.เธ. 19 2024 03:39 PM   \n",
              "1      0    1  15           27            55.6  เธก.เธ. 19 2024 03:36 PM   \n",
              "2      1    0   8           27            29.6  เธก.เธ. 19 2024 03:36 PM   \n",
              "3      1    0  13           27            48.1  เธก.เธ. 19 2024 03:37 PM   \n",
              "4      0    1  15           27            55.6  เธก.เธ. 19 2024 03:36 PM   \n",
              "..   ...  ...  ..          ...             ...                        ...   \n",
              "473    0    1  23           27            85.2  เธก.เธ. 18 2024 04:35 PM   \n",
              "474    1    0   6           27            22.2  เธก.เธ. 18 2024 04:35 PM   \n",
              "475    0    1  28           27           103.7  เธก.เธ. 18 2024 04:35 PM   \n",
              "476    1    0  13           27            48.1  เธก.เธ. 18 2024 04:35 PM   \n",
              "477    1    1  32           27           118.5  เธก.เธ. 18 2024 04:34 PM   \n",
              "\n",
              "     ... PossPt25 Stu26 Key26  EarnedPt26  PossPt26 Stu27 Key27  EarnedPt27  \\\n",
              "0    ...        1     A     B           0         1     A     B           0   \n",
              "1    ...        1     B     B           1         1     B     B           1   \n",
              "2    ...        1     A     B           0         1     A     B           0   \n",
              "3    ...        1     A     B           0         1     A     B           0   \n",
              "4    ...        1     A     B           0         1     A     B           0   \n",
              "..   ...      ...   ...   ...         ...       ...   ...   ...         ...   \n",
              "473  ...        1     B     B           1         1     B     B           1   \n",
              "474  ...        1     A     B           0         1     A     B           0   \n",
              "475  ...        1     B     B           1         1     A     B           0   \n",
              "476  ...        1     A     B           0         1     A     B           0   \n",
              "477  ...        1     A     B           0         1     B     B           1   \n",
              "\n",
              "     PossPt27 NULL  \n",
              "0           1    0  \n",
              "1           1    0  \n",
              "2           1    0  \n",
              "3           1    0  \n",
              "4           1    0  \n",
              "..        ...  ...  \n",
              "473         1    0  \n",
              "474         1    0  \n",
              "475         1    0  \n",
              "476         1    0  \n",
              "477         1    0  \n",
              "\n",
              "[478 rows x 120 columns]"
            ]
          },
          "execution_count": 7,
          "metadata": {},
          "output_type": "execute_result"
        }
      ],
      "source": [
        "df"
      ]
    },
    {
      "cell_type": "code",
      "execution_count": 8,
      "metadata": {},
      "outputs": [],
      "source": [
        "def labelfeatures(ID):\n",
        "    i = df['Pt'][df['ID']==ID].index\n",
        "    # score = df.loc[0, \"Pt\"]\n",
        "    score = df.loc[i[0], [\"Pt\",\"Age\",\"Sex\"]]\n",
        "    score.to_numpy()\n",
        "    return score"
      ]
    },
    {
      "cell_type": "code",
      "execution_count": 17,
      "metadata": {},
      "outputs": [],
      "source": [
        "def labelY(ID):\n",
        "    i = df['DEP'][df['ID']==ID].index\n",
        "    # score = df.loc[0, \"Pt\"]\n",
        "    y = df.loc[i[0], \"DEP\"]\n",
        "    return y"
      ]
    },
    {
      "cell_type": "code",
      "execution_count": 18,
      "metadata": {
        "id": "El4klgXVJO7b"
      },
      "outputs": [],
      "source": [
        "def img2data(path):\n",
        "  img_data = []\n",
        "  DEP = []\n",
        "\n",
        "  IDs = []\n",
        "  features = []\n",
        "\n",
        "  for folder in os.listdir(path):\n",
        "    folder_path = os.path.join(path, folder)\n",
        "    for item in tqdm(os.listdir(folder_path)):\n",
        "      filePath = os.path.join(folder_path, item)\n",
        "\n",
        "      # print(item)\n",
        "      ID = int(item.split('.')[0])\n",
        "      DEP.append(labelY(ID))\n",
        "\n",
        "      IDs.append(ID)\n",
        "      features.append(labelfeatures(ID))\n",
        "      \n",
        "\n",
        "      img = cv2.imread(filePath, cv2.IMREAD_GRAYSCALE)\n",
        "      # plt.imshow(img)\n",
        "\n",
        "      img = cv2.resize(img , (width, hieght))\n",
        "      # img.append(score)\n",
        "\n",
        "      img_data.append(img)\n",
        "\n",
        "  return img_data, DEP, IDs, features"
      ]
    },
    {
      "cell_type": "code",
      "execution_count": 19,
      "metadata": {
        "colab": {
          "base_uri": "https://localhost:8080/"
        },
        "id": "VOvT9DDMRc5M",
        "outputId": "07aa214d-6ba1-4a24-9a04-3404a11398f3"
      },
      "outputs": [
        {
          "name": "stderr",
          "output_type": "stream",
          "text": [
            "100%|██████████| 204/204 [00:00<00:00, 204.64it/s]\n",
            "100%|██████████| 266/266 [00:01<00:00, 236.37it/s]\n"
          ]
        }
      ],
      "source": [
        "img,Y, img_name, features,  = img2data(r\"data_label\")\n",
        "#flattened_images = img.reshape(img.shape[0], -1)\n",
        "x_train, x_test, y_train, y_test = train_test_split(img, Y, random_state=0, train_size=.8)\n",
        "# print(img)"
      ]
    },
    {
      "cell_type": "code",
      "execution_count": 33,
      "metadata": {},
      "outputs": [
        {
          "data": {
            "text/plain": [
              "((376, 550, 450), (94, 550, 450), (376,), (94,))"
            ]
          },
          "execution_count": 33,
          "metadata": {},
          "output_type": "execute_result"
        }
      ],
      "source": [
        "x_train = np.array(x_train)\n",
        "y_train = np.array(y_train)\n",
        "x_test = np.array(x_test)\n",
        "y_test = np.array(y_test)\n",
        "x_train = x_train.astype('float32')\n",
        "x_test = x_test.astype('float32')\n",
        "\n",
        "x_train /= 255\n",
        "x_test /= 255\n",
        "\n",
        "x_train.shape, x_test.shape, y_train.shape, y_test.shape"
      ]
    },
    {
      "cell_type": "code",
      "execution_count": 60,
      "metadata": {},
      "outputs": [],
      "source": [
        "model = keras.Sequential([\n",
        "    keras.layers.Conv2D(128, (3,3), activation='relu', input_shape=(hieght,width, 1)),\n",
        "    keras.layers.MaxPooling2D(pool_size=(2,2)),\n",
        "    keras.layers.Dropout(0.25),\n",
        "    keras.layers.Dense(16),\n",
        "    keras.layers.Flatten(),\n",
        "    keras.layers.Dense(2, activation='softmax')\n",
        "])"
      ]
    },
    {
      "cell_type": "code",
      "execution_count": 37,
      "metadata": {},
      "outputs": [
        {
          "name": "stdout",
          "output_type": "stream",
          "text": [
            "Model: \"sequential\"\n",
            "_________________________________________________________________\n",
            " Layer (type)                Output Shape              Param #   \n",
            "=================================================================\n",
            " conv2d_1 (Conv2D)           (None, 448, 548, 128)     1280      \n",
            "                                                                 \n",
            " max_pooling2d_1 (MaxPoolin  (None, 224, 274, 128)     0         \n",
            " g2D)                                                            \n",
            "                                                                 \n",
            " dropout_1 (Dropout)         (None, 224, 274, 128)     0         \n",
            "                                                                 \n",
            " dense_2 (Dense)             (None, 224, 274, 16)      2064      \n",
            "                                                                 \n",
            " flatten_1 (Flatten)         (None, 982016)            0         \n",
            "                                                                 \n",
            " dense_3 (Dense)             (None, 2)                 1964034   \n",
            "                                                                 \n",
            "=================================================================\n",
            "Total params: 1967378 (7.50 MB)\n",
            "Trainable params: 1967378 (7.50 MB)\n",
            "Non-trainable params: 0 (0.00 Byte)\n",
            "_________________________________________________________________\n"
          ]
        }
      ],
      "source": [
        "model.summary()"
      ]
    },
    {
      "cell_type": "code",
      "execution_count": 61,
      "metadata": {},
      "outputs": [],
      "source": [
        "#model.compile(optimizer=keras.optimizers.RMSprop(learning_rate=0.0001), loss='categorical_crossentropy', metrics=['accuracy'])\n",
        "model.compile(optimizer='adam',\n",
        "              loss=tf.keras.losses.SparseCategoricalCrossentropy(from_logits=True),\n",
        "              metrics=['accuracy'])\n",
        "batch_size = 32\n",
        "epochs = 10"
      ]
    },
    {
      "cell_type": "code",
      "execution_count": 62,
      "metadata": {},
      "outputs": [
        {
          "name": "stdout",
          "output_type": "stream",
          "text": [
            "Epoch 1/10\n",
            "WARNING:tensorflow:From c:\\Users\\asus\\AppData\\Local\\Programs\\Python\\Python311\\Lib\\site-packages\\keras\\src\\utils\\tf_utils.py:492: The name tf.ragged.RaggedTensorValue is deprecated. Please use tf.compat.v1.ragged.RaggedTensorValue instead.\n",
            "\n"
          ]
        },
        {
          "name": "stderr",
          "output_type": "stream",
          "text": [
            "c:\\Users\\asus\\AppData\\Local\\Programs\\Python\\Python311\\Lib\\site-packages\\keras\\src\\backend.py:5727: UserWarning: \"`sparse_categorical_crossentropy` received `from_logits=True`, but the `output` argument was produced by a Softmax activation and thus does not represent logits. Was this intended?\n",
            "  output, from_logits = _get_logits(\n",
            "WARNING:tensorflow:From c:\\Users\\asus\\AppData\\Local\\Programs\\Python\\Python311\\Lib\\site-packages\\keras\\src\\utils\\tf_utils.py:492: The name tf.ragged.RaggedTensorValue is deprecated. Please use tf.compat.v1.ragged.RaggedTensorValue instead.\n",
            "\n"
          ]
        },
        {
          "name": "stdout",
          "output_type": "stream",
          "text": [
            "WARNING:tensorflow:From c:\\Users\\asus\\AppData\\Local\\Programs\\Python\\Python311\\Lib\\site-packages\\keras\\src\\engine\\base_layer_utils.py:384: The name tf.executing_eagerly_outside_functions is deprecated. Please use tf.compat.v1.executing_eagerly_outside_functions instead.\n",
            "\n"
          ]
        },
        {
          "name": "stderr",
          "output_type": "stream",
          "text": [
            "WARNING:tensorflow:From c:\\Users\\asus\\AppData\\Local\\Programs\\Python\\Python311\\Lib\\site-packages\\keras\\src\\engine\\base_layer_utils.py:384: The name tf.executing_eagerly_outside_functions is deprecated. Please use tf.compat.v1.executing_eagerly_outside_functions instead.\n",
            "\n"
          ]
        },
        {
          "name": "stdout",
          "output_type": "stream",
          "text": [
            "12/12 [==============================] - 175s 14s/step - loss: 0.8436 - accuracy: 0.5133 - val_loss: 0.7619 - val_accuracy: 0.5638\n",
            "Epoch 2/10\n",
            "12/12 [==============================] - 149s 12s/step - loss: 0.7911 - accuracy: 0.4920 - val_loss: 0.6852 - val_accuracy: 0.5638\n",
            "Epoch 3/10\n",
            "12/12 [==============================] - 100s 8s/step - loss: 0.7572 - accuracy: 0.5399 - val_loss: 0.7088 - val_accuracy: 0.5638\n",
            "Epoch 4/10\n",
            "12/12 [==============================] - 146s 12s/step - loss: 0.7226 - accuracy: 0.5239 - val_loss: 0.6867 - val_accuracy: 0.5638\n",
            "Epoch 5/10\n",
            "12/12 [==============================] - 145s 12s/step - loss: 0.6874 - accuracy: 0.5665 - val_loss: 0.6870 - val_accuracy: 0.5638\n",
            "Epoch 6/10\n",
            "12/12 [==============================] - 124s 10s/step - loss: 0.6904 - accuracy: 0.5665 - val_loss: 0.6907 - val_accuracy: 0.5638\n",
            "Epoch 7/10\n",
            "12/12 [==============================] - 130s 11s/step - loss: 0.6908 - accuracy: 0.5665 - val_loss: 0.6890 - val_accuracy: 0.5638\n",
            "Epoch 8/10\n",
            "12/12 [==============================] - 132s 11s/step - loss: 0.6914 - accuracy: 0.5665 - val_loss: 0.6860 - val_accuracy: 0.5638\n",
            "Epoch 9/10\n",
            "12/12 [==============================] - 131s 11s/step - loss: 0.6886 - accuracy: 0.5665 - val_loss: 0.6851 - val_accuracy: 0.5638\n",
            "Epoch 10/10\n",
            "12/12 [==============================] - 132s 11s/step - loss: 0.6907 - accuracy: 0.5532 - val_loss: 0.6855 - val_accuracy: 0.5638\n"
          ]
        }
      ],
      "source": [
        "history = model.fit( x_train, y_train, batch_size= batch_size, epochs= epochs, validation_data=(x_test, y_test) )"
      ]
    },
    {
      "cell_type": "code",
      "execution_count": 68,
      "metadata": {},
      "outputs": [
        {
          "name": "stdout",
          "output_type": "stream",
          "text": [
            "3/3 - 2s - loss: 0.6855 - accuracy: 0.5638 - 2s/epoch - 791ms/step\n"
          ]
        },
        {
          "data": {
            "image/png": "[encoded data removed]",
            "text/plain": [
              "<Figure size 640x480 with 1 Axes>"
            ]
          },
          "metadata": {},
          "output_type": "display_data"
        },
        {
          "data": {
            "image/png": "[encoded data removed]",
            "text/plain": [
              "<Figure size 640x480 with 1 Axes>"
            ]
          },
          "metadata": {},
          "output_type": "display_data"
        }
      ],
      "source": [
        "plt.plot(history.history['accuracy'], label='accuracy')\n",
        "plt.plot(history.history['val_accuracy'], label='val_accuracy')\n",
        "plt.title('Model accuracy')\n",
        "plt.ylabel('accuracy')\n",
        "plt.xlabel('epoch')\n",
        "\n",
        "plt.legend(['train','validation'],loc='lower right')\n",
        "\n",
        "test_loss, test_acc = model.evaluate(x_test,  y_test, verbose=2)\n",
        "plt.show()\n",
        "# \"LOSS\"\n",
        "\n",
        "plt.plot(history.history['loss'])\n",
        "plt.plot(history.history['val_loss'])\n",
        "plt.title('Model loss')\n",
        "plt.ylabel('loss')\n",
        "plt.xlabel('epoch')\n",
        "plt.legend(['train','validation'], loc='upper left')\n",
        "plt.show()"
      ]
    },
    {
      "cell_type": "code",
      "execution_count": null,
      "metadata": {},
      "outputs": [],
      "source": []
    },
    {
      "cell_type": "code",
      "execution_count": 77,
      "metadata": {},
      "outputs": [
        {
          "ename": "error",
          "evalue": "OpenCV(4.8.1) D:\\a\\opencv-python\\opencv-python\\opencv\\modules\\imgproc\\src\\resize.cpp:4062: error: (-215:Assertion failed) !ssize.empty() in function 'cv::resize'\n",
          "output_type": "error",
          "traceback": [
            "\u001b[1;31m---------------------------------------------------------------------------\u001b[0m",
            "\u001b[1;31merror\u001b[0m                                     Traceback (most recent call last)",
            "Cell \u001b[1;32mIn[77], line 10\u001b[0m\n\u001b[0;32m      8\u001b[0m img \u001b[38;5;241m=\u001b[39m cv2\u001b[38;5;241m.\u001b[39mimread(file, cv2\u001b[38;5;241m.\u001b[39mIMREAD_GRAYSCALE)\n\u001b[0;32m      9\u001b[0m img\n\u001b[1;32m---> 10\u001b[0m img \u001b[38;5;241m=\u001b[39m \u001b[43mcv2\u001b[49m\u001b[38;5;241;43m.\u001b[39;49m\u001b[43mresize\u001b[49m\u001b[43m(\u001b[49m\u001b[43mimg\u001b[49m\u001b[43m \u001b[49m\u001b[43m,\u001b[49m\u001b[43m \u001b[49m\u001b[43m(\u001b[49m\u001b[43mwidth\u001b[49m\u001b[43m,\u001b[49m\u001b[43m \u001b[49m\u001b[43mhieght\u001b[49m\u001b[43m)\u001b[49m\u001b[43m)\u001b[49m\n\u001b[0;32m     12\u001b[0m rimg \u001b[38;5;241m=\u001b[39m np\u001b[38;5;241m.\u001b[39marray(img)\n\u001b[0;32m     13\u001b[0m rimg \u001b[38;5;241m=\u001b[39m rimg\u001b[38;5;241m.\u001b[39mastype(\u001b[38;5;124m'\u001b[39m\u001b[38;5;124mfloat32\u001b[39m\u001b[38;5;124m'\u001b[39m)\n",
            "\u001b[1;31merror\u001b[0m: OpenCV(4.8.1) D:\\a\\opencv-python\\opencv-python\\opencv\\modules\\imgproc\\src\\resize.cpp:4062: error: (-215:Assertion failed) !ssize.empty() in function 'cv::resize'\n"
          ]
        }
      ],
      "source": [
        "rimg = []\n",
        "testPath = r\"data_label\"\n",
        "\n",
        "for imgPath in (testPath):\n",
        "    for item in (os.listdir(testPath)):\n",
        "        file = os.path.join(testPath, item)\n",
        "        if item.split('.')[0] != \"\":\n",
        "            img = cv2.imread(file, cv2.IMREAD_GRAYSCALE)\n",
        "            img\n",
        "            img = cv2.resize(img , (width, hieght))\n",
        "\n",
        "            rimg = np.array(img)\n",
        "            rimg = rimg.astype('float32')\n",
        "\n",
        "            predict = model.predict(rimg)\n",
        "            label = ['DEP','un DEP']\n",
        "            result = label[int(predict)]\n",
        "            print('real:' + str(item))\n",
        "            print('predict' + str(result))"
      ]
    }
  ],
  "metadata": {
    "colab": {
      "provenance": []
    },
    "kernelspec": {
      "display_name": "Python 3",
      "name": "python3"
    },
    "language_info": {
      "codemirror_mode": {
        "name": "ipython",
        "version": 3
      },
      "file_extension": ".py",
      "mimetype": "text/x-python",
      "name": "python",
      "nbconvert_exporter": "python",
      "pygments_lexer": "ipython3",
      "version": "3.11.0"
    }
  },
  "nbformat": 4,
  "nbformat_minor": 0
}
