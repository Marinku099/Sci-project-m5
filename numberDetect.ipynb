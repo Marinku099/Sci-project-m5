{
 "cells": [
  {
   "cell_type": "code",
   "execution_count": 1,
   "metadata": {},
   "outputs": [],
   "source": [
    "import cv2\n",
    "from matplotlib import pyplot as plt\n",
    "import numpy as np \n",
    "import imutils\n",
    "import easyocr\n",
    "from pathlib import Path"
   ]
  },
  {
   "cell_type": "code",
   "execution_count": 2,
   "metadata": {},
   "outputs": [],
   "source": [
    "folder = Path(\"D:/coding/projectm5/data\")"
   ]
  },
  {
   "cell_type": "code",
   "execution_count": 17,
   "metadata": {},
   "outputs": [],
   "source": [
    "def cropped(img):\n",
    "    gray = cv2.cvtColor(img, cv2.COLOR_BGR2GRAY)\n",
    "    bfilter = cv2.bilateralFilter(gray, 15, 20, 20)\n",
    "    edged = cv2.Canny(bfilter, 30, 200)\n",
    "\n",
    "    keypoint = cv2.findContours(edged.copy(), cv2.RETR_TREE, cv2.CHAIN_APPROX_SIMPLE)\n",
    "    contours = imutils.grab_contours(keypoint)\n",
    "    contours = sorted(contours, key=cv2.contourArea, reverse=True)[:10]\n",
    "\n",
    "    mask = np.zeros(gray.shape, np.uint8)\n",
    "    location = None\n",
    "\n",
    "    for contour in contours:\n",
    "        # print(i)\n",
    "        approx = cv2.approxPolyDP(contour, 10, True)\n",
    "        if len(approx) == 4:\n",
    "            max_x = max(approx[:,:,1])\n",
    "            min_x = min(approx[:,:,1])\n",
    "            max_y = max(approx[:,:,0])\n",
    "            min_y = min(approx[:,:,0])\n",
    "\n",
    "            x_lenght = max_x-min_x\n",
    "            y_lenght = max_y-min_y\n",
    "\n",
    "            if x_lenght > 500 and y_lenght > 500:\n",
    "                location = approx\n",
    "                break\n",
    "        \n",
    "    if location is not None:\n",
    "        new_image = cv2.drawContours(mask, [location], 0, 255, -1)\n",
    "        new_image = cv2.bitwise_and(img, img, mask=mask)\n",
    "\n",
    "        (x, y) = np.where(mask==255)\n",
    "        (x1, y1) = (np.min(x), np.min(y))\n",
    "        (x2, y2) = (np.max(x), np.max(y))\n",
    "        cropped_image = gray[x1:x2+1, y1:y2+1]\n",
    "        return 1, cropped_image\n",
    "\n",
    "    return 0, gray"
   ]
  },
  {
   "cell_type": "code",
   "execution_count": 4,
   "metadata": {},
   "outputs": [],
   "source": [
    "def detectID(path):\n",
    "    result = []\n",
    "    img = cv2.imread(path)\n",
    "    img = img[1600: , 100:500]\n",
    "    gray = cv2.cvtColor(img, cv2.COLOR_BGR2GRAY)\n",
    "    # # plt.imshow(cv2.cvtColor(gray, cv2.COLOR_BGR2RGB))\n",
    "\n",
    "    # bfilter = cv2.bilateralFilter(gray, 15, 30, 30)\n",
    "    # edged = cv2.Canny(bfilter, 30, 200)\n",
    "    # # plt.imshow(cv2.cvtColor(edged, cv2.COLOR_BGR2RGB))\n",
    "\n",
    "    # keypoint = cv2.findContours(edged.copy(), cv2.RETR_TREE, cv2.CHAIN_APPROX_SIMPLE)\n",
    "    # contours = imutils.grab_contours(keypoint)\n",
    "    # contours = sorted(contours, key=cv2.contourArea, reverse=True)[:20]\n",
    "    \n",
    "    # mask = np.zeros(gray.shape, np.uint8)\n",
    "    # location = None\n",
    "\n",
    "    # for contour in contours:\n",
    "    #     # print(i)\n",
    "    #     approx = cv2.approxPolyDP(contour, 10, True)\n",
    "    #     if len(approx) == 4:\n",
    "    #         location = approx\n",
    "    #         new_image = cv2.drawContours(mask, [location], 0, 255, -1)\n",
    "            # new_image = cv2.bitwise_and(img, img, mask=mask)\n",
    "\n",
    "            # (x, y) = np.where(mask==255)\n",
    "            # (x1, y1) = (np.min(x), np.min(y))\n",
    "            # (x2, y2) = (np.max(x), np.max(y))\n",
    "            # cropped_image = gray[x1:x2+1, y1:y2+1]\n",
    "\n",
    "    reader = easyocr.Reader(['en'])\n",
    "    result = reader.readtext(gray)\n",
    "\n",
    "    return result"
   ]
  },
  {
   "cell_type": "code",
   "execution_count": 18,
   "metadata": {},
   "outputs": [
    {
     "name": "stderr",
     "output_type": "stream",
     "text": [
      "Neither CUDA nor MPS are available - defaulting to CPU. Note: This module is much faster with a GPU.\n"
     ]
    },
    {
     "name": "stdout",
     "output_type": "stream",
     "text": [
      "[([[143, 27], [163, 27], [163, 51], [143, 51]], '2', 0.875966959836178)] "
     ]
    },
    {
     "name": "stderr",
     "output_type": "stream",
     "text": [
      "Neither CUDA nor MPS are available - defaulting to CPU. Note: This module is much faster with a GPU.\n"
     ]
    },
    {
     "name": "stdout",
     "output_type": "stream",
     "text": [
      "[([[146, 24], [182, 24], [182, 54], [146, 54]], '15', 0.9999910648798075)] "
     ]
    },
    {
     "name": "stderr",
     "output_type": "stream",
     "text": [
      "Neither CUDA nor MPS are available - defaulting to CPU. Note: This module is much faster with a GPU.\n"
     ]
    },
    {
     "name": "stdout",
     "output_type": "stream",
     "text": [
      "[([[145, 27], [165, 27], [165, 51], [145, 51]], '3', 0.4083876989170302)] "
     ]
    },
    {
     "name": "stderr",
     "output_type": "stream",
     "text": [
      "Neither CUDA nor MPS are available - defaulting to CPU. Note: This module is much faster with a GPU.\n"
     ]
    },
    {
     "name": "stdout",
     "output_type": "stream",
     "text": [
      "[] "
     ]
    },
    {
     "name": "stderr",
     "output_type": "stream",
     "text": [
      "Neither CUDA nor MPS are available - defaulting to CPU. Note: This module is much faster with a GPU.\n"
     ]
    },
    {
     "name": "stdout",
     "output_type": "stream",
     "text": [
      "path :  D:\\coding\\projectm5\\data\\1-1\\1-1-drawing_page-0004.jpg\n",
      "[([[148, 22], [184, 22], [184, 50], [148, 50]], '27', 1.0)] "
     ]
    },
    {
     "name": "stderr",
     "output_type": "stream",
     "text": [
      "Neither CUDA nor MPS are available - defaulting to CPU. Note: This module is much faster with a GPU.\n"
     ]
    },
    {
     "name": "stdout",
     "output_type": "stream",
     "text": [
      "[([[148, 22], [186, 22], [186, 52], [148, 52]], '13', 0.9999983141264758)] "
     ]
    },
    {
     "name": "stderr",
     "output_type": "stream",
     "text": [
      "Neither CUDA nor MPS are available - defaulting to CPU. Note: This module is much faster with a GPU.\n"
     ]
    },
    {
     "ename": "KeyboardInterrupt",
     "evalue": "",
     "output_type": "error",
     "traceback": [
      "\u001b[1;31m---------------------------------------------------------------------------\u001b[0m",
      "\u001b[1;31mKeyboardInterrupt\u001b[0m                         Traceback (most recent call last)",
      "Cell \u001b[1;32mIn[18], line 5\u001b[0m\n\u001b[0;32m      1\u001b[0m i \u001b[38;5;241m=\u001b[39m \u001b[38;5;241m0\u001b[39m\n\u001b[0;32m      2\u001b[0m \u001b[38;5;28;01mfor\u001b[39;00m jpg_file_path \u001b[38;5;129;01min\u001b[39;00m \u001b[38;5;28mlist\u001b[39m(folder\u001b[38;5;241m.\u001b[39mrglob(\u001b[38;5;124m'\u001b[39m\u001b[38;5;124m*.jpg\u001b[39m\u001b[38;5;124m'\u001b[39m)):\n\u001b[0;32m      3\u001b[0m     \u001b[38;5;66;03m# print(type(jpg_file_path))\u001b[39;00m\n\u001b[0;32m      4\u001b[0m     \u001b[38;5;66;03m# jpg_file = open(jpg_file_path, \"r\")\u001b[39;00m\n\u001b[1;32m----> 5\u001b[0m     result \u001b[38;5;241m=\u001b[39m \u001b[43mdetectID\u001b[49m\u001b[43m(\u001b[49m\u001b[38;5;28;43mstr\u001b[39;49m\u001b[43m(\u001b[49m\u001b[43mjpg_file_path\u001b[49m\u001b[43m)\u001b[49m\u001b[43m)\u001b[49m\n\u001b[0;32m      6\u001b[0m     \u001b[38;5;28mprint\u001b[39m(result, end\u001b[38;5;241m=\u001b[39m\u001b[38;5;124m\"\u001b[39m\u001b[38;5;124m \u001b[39m\u001b[38;5;124m\"\u001b[39m)\n\u001b[0;32m      8\u001b[0m     original_img \u001b[38;5;241m=\u001b[39m cv2\u001b[38;5;241m.\u001b[39mimread(\u001b[38;5;28mstr\u001b[39m(jpg_file_path))\n",
      "Cell \u001b[1;32mIn[4], line 32\u001b[0m, in \u001b[0;36mdetectID\u001b[1;34m(path)\u001b[0m\n\u001b[0;32m      5\u001b[0m gray \u001b[38;5;241m=\u001b[39m cv2\u001b[38;5;241m.\u001b[39mcvtColor(img, cv2\u001b[38;5;241m.\u001b[39mCOLOR_BGR2GRAY)\n\u001b[0;32m      6\u001b[0m \u001b[38;5;66;03m# # plt.imshow(cv2.cvtColor(gray, cv2.COLOR_BGR2RGB))\u001b[39;00m\n\u001b[0;32m      7\u001b[0m \n\u001b[0;32m      8\u001b[0m \u001b[38;5;66;03m# bfilter = cv2.bilateralFilter(gray, 15, 30, 30)\u001b[39;00m\n\u001b[1;32m   (...)\u001b[0m\n\u001b[0;32m     29\u001b[0m         \u001b[38;5;66;03m# (x2, y2) = (np.max(x), np.max(y))\u001b[39;00m\n\u001b[0;32m     30\u001b[0m         \u001b[38;5;66;03m# cropped_image = gray[x1:x2+1, y1:y2+1]\u001b[39;00m\n\u001b[1;32m---> 32\u001b[0m reader \u001b[38;5;241m=\u001b[39m \u001b[43measyocr\u001b[49m\u001b[38;5;241;43m.\u001b[39;49m\u001b[43mReader\u001b[49m\u001b[43m(\u001b[49m\u001b[43m[\u001b[49m\u001b[38;5;124;43m'\u001b[39;49m\u001b[38;5;124;43men\u001b[39;49m\u001b[38;5;124;43m'\u001b[39;49m\u001b[43m]\u001b[49m\u001b[43m)\u001b[49m\n\u001b[0;32m     33\u001b[0m result \u001b[38;5;241m=\u001b[39m reader\u001b[38;5;241m.\u001b[39mreadtext(gray)\n\u001b[0;32m     35\u001b[0m \u001b[38;5;28;01mreturn\u001b[39;00m result\n",
      "File \u001b[1;32mc:\\Users\\Acer\\AppData\\Local\\Programs\\Python\\Python311\\Lib\\site-packages\\easyocr\\easyocr.py:92\u001b[0m, in \u001b[0;36mReader.__init__\u001b[1;34m(self, lang_list, gpu, model_storage_directory, user_network_directory, detect_network, recog_network, download_enabled, detector, recognizer, verbose, quantize, cudnn_benchmark)\u001b[0m\n\u001b[0;32m     90\u001b[0m \u001b[38;5;28mself\u001b[39m\u001b[38;5;241m.\u001b[39mcudnn_benchmark\u001b[38;5;241m=\u001b[39mcudnn_benchmark\n\u001b[0;32m     91\u001b[0m \u001b[38;5;28;01mif\u001b[39;00m detector:\n\u001b[1;32m---> 92\u001b[0m     detector_path \u001b[38;5;241m=\u001b[39m \u001b[38;5;28;43mself\u001b[39;49m\u001b[38;5;241;43m.\u001b[39;49m\u001b[43mgetDetectorPath\u001b[49m\u001b[43m(\u001b[49m\u001b[43mdetect_network\u001b[49m\u001b[43m)\u001b[49m\n\u001b[0;32m     94\u001b[0m \u001b[38;5;66;03m# recognition model\u001b[39;00m\n\u001b[0;32m     95\u001b[0m separator_list \u001b[38;5;241m=\u001b[39m {}\n",
      "File \u001b[1;32mc:\\Users\\Acer\\AppData\\Local\\Programs\\Python\\Python311\\Lib\\site-packages\\easyocr\\easyocr.py:256\u001b[0m, in \u001b[0;36mReader.getDetectorPath\u001b[1;34m(self, detect_network)\u001b[0m\n\u001b[0;32m    254\u001b[0m     \u001b[38;5;28;01massert\u001b[39;00m calculate_md5(detector_path) \u001b[38;5;241m==\u001b[39m \u001b[38;5;28mself\u001b[39m\u001b[38;5;241m.\u001b[39mdetection_models[\u001b[38;5;28mself\u001b[39m\u001b[38;5;241m.\u001b[39mdetect_network][\u001b[38;5;124m'\u001b[39m\u001b[38;5;124mmd5sum\u001b[39m\u001b[38;5;124m'\u001b[39m], corrupt_msg\n\u001b[0;32m    255\u001b[0m     LOGGER\u001b[38;5;241m.\u001b[39minfo(\u001b[38;5;124m'\u001b[39m\u001b[38;5;124mDownload complete\u001b[39m\u001b[38;5;124m'\u001b[39m)\n\u001b[1;32m--> 256\u001b[0m \u001b[38;5;28;01melif\u001b[39;00m \u001b[43mcalculate_md5\u001b[49m\u001b[43m(\u001b[49m\u001b[43mdetector_path\u001b[49m\u001b[43m)\u001b[49m \u001b[38;5;241m!=\u001b[39m \u001b[38;5;28mself\u001b[39m\u001b[38;5;241m.\u001b[39mdetection_models[\u001b[38;5;28mself\u001b[39m\u001b[38;5;241m.\u001b[39mdetect_network][\u001b[38;5;124m'\u001b[39m\u001b[38;5;124mmd5sum\u001b[39m\u001b[38;5;124m'\u001b[39m]:\n\u001b[0;32m    257\u001b[0m     \u001b[38;5;28;01mif\u001b[39;00m \u001b[38;5;129;01mnot\u001b[39;00m \u001b[38;5;28mself\u001b[39m\u001b[38;5;241m.\u001b[39mdownload_enabled:\n\u001b[0;32m    258\u001b[0m         \u001b[38;5;28;01mraise\u001b[39;00m \u001b[38;5;167;01mFileNotFoundError\u001b[39;00m(\u001b[38;5;124m\"\u001b[39m\u001b[38;5;124mMD5 mismatch for \u001b[39m\u001b[38;5;132;01m%s\u001b[39;00m\u001b[38;5;124m and downloads disabled\u001b[39m\u001b[38;5;124m\"\u001b[39m \u001b[38;5;241m%\u001b[39m detector_path)\n",
      "File \u001b[1;32mc:\\Users\\Acer\\AppData\\Local\\Programs\\Python\\Python311\\Lib\\site-packages\\easyocr\\utils.py:637\u001b[0m, in \u001b[0;36mcalculate_md5\u001b[1;34m(fname)\u001b[0m\n\u001b[0;32m    635\u001b[0m \u001b[38;5;28;01mwith\u001b[39;00m \u001b[38;5;28mopen\u001b[39m(fname, \u001b[38;5;124m\"\u001b[39m\u001b[38;5;124mrb\u001b[39m\u001b[38;5;124m\"\u001b[39m) \u001b[38;5;28;01mas\u001b[39;00m f:\n\u001b[0;32m    636\u001b[0m     \u001b[38;5;28;01mfor\u001b[39;00m chunk \u001b[38;5;129;01min\u001b[39;00m \u001b[38;5;28miter\u001b[39m(\u001b[38;5;28;01mlambda\u001b[39;00m: f\u001b[38;5;241m.\u001b[39mread(\u001b[38;5;241m4096\u001b[39m), \u001b[38;5;124mb\u001b[39m\u001b[38;5;124m\"\u001b[39m\u001b[38;5;124m\"\u001b[39m):\n\u001b[1;32m--> 637\u001b[0m         hash_md5\u001b[38;5;241m.\u001b[39mupdate(chunk)\n\u001b[0;32m    638\u001b[0m \u001b[38;5;28;01mreturn\u001b[39;00m hash_md5\u001b[38;5;241m.\u001b[39mhexdigest()\n",
      "\u001b[1;31mKeyboardInterrupt\u001b[0m: "
     ]
    }
   ],
   "source": [
    "i = 0\n",
    "for jpg_file_path in list(folder.rglob('*.jpg')):\n",
    "    # print(type(jpg_file_path))\n",
    "    # jpg_file = open(jpg_file_path, \"r\")\n",
    "    result = detectID(str(jpg_file_path))\n",
    "    print(result, end=\" \")\n",
    "\n",
    "    original_img = cv2.imread(str(jpg_file_path))\n",
    "    check, cropped_img = cropped(original_img)\n",
    "\n",
    "    if len(result) > 0:\n",
    "        Id = result[0][1].rjust(3, '0')\n",
    "        if check:\n",
    "            cv2.imwrite(f'data_label\\\\{Id}.jpg', cropped_img)\n",
    "        else:\n",
    "            cv2.imwrite(f'data_label\\\\{Id}-incomplete.jpg', cropped_img)\n",
    "    else:\n",
    "        cv2.imwrite(f'data_label\\\\noID-{i}.jpg', original_img)\n",
    "        i += 1\n",
    "        print(\"path : \", jpg_file_path)\n"
   ]
  }
 ],
 "metadata": {
  "kernelspec": {
   "display_name": "Python 3",
   "language": "python",
   "name": "python3"
  },
  "language_info": {
   "codemirror_mode": {
    "name": "ipython",
    "version": 3
   },
   "file_extension": ".py",
   "mimetype": "text/x-python",
   "name": "python",
   "nbconvert_exporter": "python",
   "pygments_lexer": "ipython3",
   "version": "3.11.7"
  }
 },
 "nbformat": 4,
 "nbformat_minor": 2
}
