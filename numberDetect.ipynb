{
 "cells": [
  {
   "cell_type": "code",
   "execution_count": 1,
   "metadata": {},
   "outputs": [
    {
     "name": "stderr",
     "output_type": "stream",
     "text": [
      "C:\\Users\\Acer\\AppData\\Local\\Temp\\ipykernel_3600\\1017591537.py:7: DeprecationWarning: \n",
      "Pyarrow will become a required dependency of pandas in the next major release of pandas (pandas 3.0),\n",
      "(to allow more performant data types, such as the Arrow string type, and better interoperability with other libraries)\n",
      "but was not found to be installed on your system.\n",
      "If this would cause problems for you,\n",
      "please provide us feedback at https://github.com/pandas-dev/pandas/issues/54466\n",
      "        \n",
      "  import pandas as pd\n"
     ]
    }
   ],
   "source": [
    "import cv2\n",
    "from matplotlib import pyplot as plt\n",
    "import numpy as np \n",
    "import imutils\n",
    "import easyocr\n",
    "from pathlib import Path\n",
    "import pandas as pd"
   ]
  },
  {
   "cell_type": "code",
   "execution_count": 2,
   "metadata": {},
   "outputs": [],
   "source": [
    "folder = Path(r\"C:\\Users\\Acer\\Documents\\เอกสาร\\GitHub\\Sci-project-m5\\2024-01-31\")\n",
    "original_excel = pd.read_excel(\"data\\cdi-data-scan1266.xlsx\")"
   ]
  },
  {
   "cell_type": "code",
   "execution_count": 3,
   "metadata": {},
   "outputs": [
    {
     "name": "stdout",
     "output_type": "stream",
     "text": [
      "      ID  Pt\n",
      "0      0   5\n",
      "1      1   8\n",
      "2      2  15\n",
      "3      3   8\n",
      "4      4  13\n",
      "..   ...  ..\n",
      "475  543  23\n",
      "476  544   6\n",
      "477  545  28\n",
      "478  546  13\n",
      "479  547  32\n",
      "\n",
      "[480 rows x 2 columns]\n"
     ]
    }
   ],
   "source": [
    "global score_table\n",
    "score_table = pd.DataFrame(original_excel[['ID', 'Pt']])\n",
    "\n",
    "print(score_table)"
   ]
  },
  {
   "cell_type": "code",
   "execution_count": 4,
   "metadata": {},
   "outputs": [
    {
     "name": "stdout",
     "output_type": "stream",
     "text": [
      "15\n"
     ]
    }
   ],
   "source": [
    "i = score_table['Pt'][score_table['ID']==2].index\n",
    "# print(i)\n",
    "print(score_table.loc[i[0], 'Pt'])"
   ]
  },
  {
   "cell_type": "code",
   "execution_count": 5,
   "metadata": {},
   "outputs": [],
   "source": [
    "def labelClass(ID):\n",
    "    D = \"Depressed\"\n",
    "    noD = \"No-Depressed\"\n",
    "\n",
    "    i = score_table['Pt'][score_table['ID']==ID].index\n",
    "    score = score_table.loc[i[0], 'Pt']\n",
    "    \n",
    "    if score >= 15:\n",
    "        return D\n",
    "    else:\n",
    "        return noD"
   ]
  },
  {
   "cell_type": "code",
   "execution_count": 6,
   "metadata": {},
   "outputs": [],
   "source": [
    "def cropped(img):\n",
    "    gray = cv2.cvtColor(img, cv2.COLOR_BGR2GRAY)\n",
    "    bfilter = cv2.bilateralFilter(gray, 15, 20, 20)\n",
    "    edged = cv2.Canny(bfilter, 30, 200)\n",
    "\n",
    "    keypoint = cv2.findContours(edged.copy(), cv2.RETR_TREE, cv2.CHAIN_APPROX_SIMPLE)\n",
    "    contours = imutils.grab_contours(keypoint)\n",
    "    contours = sorted(contours, key=cv2.contourArea, reverse=True)[:10]\n",
    "\n",
    "    mask = np.zeros(gray.shape, np.uint8)\n",
    "    location = None\n",
    "\n",
    "    for contour in contours:\n",
    "        # print(i)\n",
    "        approx = cv2.approxPolyDP(contour, 10, True)\n",
    "        if len(approx) == 4:\n",
    "            max_x = max(approx[:,:,1])\n",
    "            min_x = min(approx[:,:,1])\n",
    "            max_y = max(approx[:,:,0])\n",
    "            min_y = min(approx[:,:,0])\n",
    "\n",
    "            x_lenght = max_x-min_x\n",
    "            y_lenght = max_y-min_y\n",
    "\n",
    "            if x_lenght > 500 and y_lenght > 500:\n",
    "                location = approx\n",
    "                break\n",
    "        \n",
    "    if location is not None:\n",
    "        new_image = cv2.drawContours(mask, [location], 0, 255, -1)\n",
    "        new_image = cv2.bitwise_and(img, img, mask=mask)\n",
    "\n",
    "        (x, y) = np.where(mask==255)\n",
    "        (x1, y1) = (np.min(x), np.min(y))\n",
    "        (x2, y2) = (np.max(x), np.max(y))\n",
    "        cropped_image = gray[x1:x2+1, y1:y2+1]\n",
    "        return 1, cropped_image\n",
    "\n",
    "    return 0, gray"
   ]
  },
  {
   "cell_type": "code",
   "execution_count": 7,
   "metadata": {},
   "outputs": [],
   "source": [
    "def detectID(path):\n",
    "    result = []\n",
    "    img = cv2.imread(path)\n",
    "    img = img[1600: , 100:500]\n",
    "    gray = cv2.cvtColor(img, cv2.COLOR_BGR2GRAY)\n",
    "\n",
    "    reader = easyocr.Reader(['en'])\n",
    "    result = reader.readtext(gray)\n",
    "\n",
    "    return result"
   ]
  },
  {
   "cell_type": "code",
   "execution_count": 8,
   "metadata": {},
   "outputs": [],
   "source": [
    "def denoise(img):\n",
    "    lower = 0  \n",
    "    upper = 240 \n",
    "\n",
    "    mask = cv2.inRange(img, lower, upper)\n",
    "\n",
    "    result = cv2.bitwise_and(img, img, mask=mask)\n",
    "    # plt.imshow(cv2.cvtColor(result, cv2.COLOR_BGR2RGB))\n",
    "    # cv2.imwrite('test-inrange-denoising.jpg', result)\n",
    "    return result"
   ]
  },
  {
   "cell_type": "code",
   "execution_count": 13,
   "metadata": {},
   "outputs": [
    {
     "ename": "error",
     "evalue": "OpenCV(4.9.0) D:\\a\\opencv-python\\opencv-python\\opencv\\modules\\imgproc\\src\\color.cpp:196: error: (-215:Assertion failed) !_src.empty() in function 'cv::cvtColor'\n",
     "output_type": "error",
     "traceback": [
      "\u001b[1;31m---------------------------------------------------------------------------\u001b[0m",
      "\u001b[1;31merror\u001b[0m                                     Traceback (most recent call last)",
      "Cell \u001b[1;32mIn[13], line 4\u001b[0m\n\u001b[0;32m      1\u001b[0m i \u001b[38;5;241m=\u001b[39m \u001b[38;5;241m0\u001b[39m\n\u001b[0;32m      3\u001b[0m \u001b[38;5;28;01mfor\u001b[39;00m jpg_file_path \u001b[38;5;129;01min\u001b[39;00m \u001b[38;5;28mlist\u001b[39m(folder\u001b[38;5;241m.\u001b[39mglob(\u001b[38;5;124m'\u001b[39m\u001b[38;5;124m*.jpg\u001b[39m\u001b[38;5;124m'\u001b[39m)):\n\u001b[1;32m----> 4\u001b[0m     result \u001b[38;5;241m=\u001b[39m \u001b[43mdetectID\u001b[49m\u001b[43m(\u001b[49m\u001b[38;5;28;43mstr\u001b[39;49m\u001b[43m(\u001b[49m\u001b[43mjpg_file_path\u001b[49m\u001b[43m)\u001b[49m\u001b[43m)\u001b[49m\n\u001b[0;32m      5\u001b[0m     \u001b[38;5;66;03m# print(result)\u001b[39;00m\n\u001b[0;32m      7\u001b[0m     original_img \u001b[38;5;241m=\u001b[39m cv2\u001b[38;5;241m.\u001b[39mimread(\u001b[38;5;28mstr\u001b[39m(jpg_file_path))\n",
      "Cell \u001b[1;32mIn[7], line 5\u001b[0m, in \u001b[0;36mdetectID\u001b[1;34m(path)\u001b[0m\n\u001b[0;32m      3\u001b[0m img \u001b[38;5;241m=\u001b[39m cv2\u001b[38;5;241m.\u001b[39mimread(path)\n\u001b[0;32m      4\u001b[0m img \u001b[38;5;241m=\u001b[39m img[\u001b[38;5;241m1600\u001b[39m: , \u001b[38;5;241m100\u001b[39m:\u001b[38;5;241m500\u001b[39m]\n\u001b[1;32m----> 5\u001b[0m gray \u001b[38;5;241m=\u001b[39m \u001b[43mcv2\u001b[49m\u001b[38;5;241;43m.\u001b[39;49m\u001b[43mcvtColor\u001b[49m\u001b[43m(\u001b[49m\u001b[43mimg\u001b[49m\u001b[43m,\u001b[49m\u001b[43m \u001b[49m\u001b[43mcv2\u001b[49m\u001b[38;5;241;43m.\u001b[39;49m\u001b[43mCOLOR_BGR2GRAY\u001b[49m\u001b[43m)\u001b[49m\n\u001b[0;32m      7\u001b[0m reader \u001b[38;5;241m=\u001b[39m easyocr\u001b[38;5;241m.\u001b[39mReader([\u001b[38;5;124m'\u001b[39m\u001b[38;5;124men\u001b[39m\u001b[38;5;124m'\u001b[39m])\n\u001b[0;32m      8\u001b[0m result \u001b[38;5;241m=\u001b[39m reader\u001b[38;5;241m.\u001b[39mreadtext(gray)\n",
      "\u001b[1;31merror\u001b[0m: OpenCV(4.9.0) D:\\a\\opencv-python\\opencv-python\\opencv\\modules\\imgproc\\src\\color.cpp:196: error: (-215:Assertion failed) !_src.empty() in function 'cv::cvtColor'\n"
     ]
    }
   ],
   "source": [
    "i = 0\n",
    "\n",
    "for jpg_file_path in list(folder.glob('*.jpg')):\n",
    "    result = detectID(str(jpg_file_path))\n",
    "    # print(result)\n",
    "\n",
    "    original_img = cv2.imread(str(jpg_file_path))\n",
    "    check, cropped_img = cropped(original_img)\n",
    "    result_img = denoise(cropped_img)\n",
    "\n",
    "    if len(result) > 0:\n",
    "        Id = result[0][1].rjust(3, '0')\n",
    "        label = labelClass(int(result[0][1]))\n",
    "        if check:\n",
    "            cv2.imwrite(f'data_label\\\\{label}\\\\{Id}.jpg', result_img)\n",
    "        else:\n",
    "            cv2.imwrite(f'data_label\\\\test-img\\\\incomplete-{Id}.jpg', result_img)\n",
    "    else:\n",
    "        cv2.imwrite(f'data_label\\\\noID-{i}.jpg', result_img)\n",
    "        i += 1\n",
    "        # print(\"no Id path : \", jpg_file_path)\n",
    "    # cv2.imwrite(f'data_label\\\\test-{i}.jpg', result_img)\n",
    "    # i += 1\n",
    "\n"
   ]
  }
 ],
 "metadata": {
  "kernelspec": {
   "display_name": "Python 3",
   "language": "python",
   "name": "python3"
  },
  "language_info": {
   "codemirror_mode": {
    "name": "ipython",
    "version": 3
   },
   "file_extension": ".py",
   "mimetype": "text/x-python",
   "name": "python",
   "nbconvert_exporter": "python",
   "pygments_lexer": "ipython3",
   "version": "3.11.7"
  }
 },
 "nbformat": 4,
 "nbformat_minor": 2
}
