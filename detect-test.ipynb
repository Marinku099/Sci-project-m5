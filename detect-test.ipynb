{
 "cells": [
  {
   "cell_type": "code",
   "execution_count": 2,
   "metadata": {},
   "outputs": [],
   "source": [
    "import cv2\n",
    "from matplotlib import pyplot as plt\n",
    "import numpy as np \n",
    "import imutils\n",
    "import easyocr"
   ]
  },
  {
   "cell_type": "code",
   "execution_count": 3,
   "metadata": {},
   "outputs": [],
   "source": [
    "path = \"data\\\\1-1\\\\1-1-drawing_page-0003.jpg\""
   ]
  },
  {
   "cell_type": "code",
   "execution_count": 4,
   "metadata": {},
   "outputs": [],
   "source": [
    "\n",
    "img = cv2.imread(path)\n",
    "img = img[1600: , 100:500]"
   ]
  },
  {
   "cell_type": "code",
   "execution_count": 15,
   "metadata": {},
   "outputs": [
    {
     "data": {
      "image/png": "[encoded data removed]",
      "text/plain": [
       "<Figure size 640x480 with 1 Axes>"
      ]
     },
     "metadata": {},
     "output_type": "display_data"
    }
   ],
   "source": [
    "\n",
    "\n",
    "gray = cv2.cvtColor(img, cv2.COLOR_BGR2GRAY)\n",
    "plt.imshow(cv2.cvtColor(gray, cv2.COLOR_BGR2RGB))\n",
    "\n",
    "bfilter = cv2.bilateralFilter(gray, 15, 30, 30)\n",
    "edged = cv2.Canny(bfilter, 100, 200)\n",
    "plt.imshow(cv2.cvtColor(edged, cv2.COLOR_BGR2RGB))\n",
    "\n",
    "keypoint = cv2.findContours(edged.copy(), cv2.RETR_TREE, cv2.CHAIN_APPROX_SIMPLE)\n",
    "contours = imutils.grab_contours(keypoint)\n",
    "contours = sorted(contours, key=cv2.contourArea, reverse=True)[:20]"
   ]
  },
  {
   "cell_type": "code",
   "execution_count": 16,
   "metadata": {},
   "outputs": [
    {
     "name": "stdout",
     "output_type": "stream",
     "text": [
      "1\n",
      "[[[ 79  23]]\n",
      "\n",
      " [[ 78  52]]\n",
      "\n",
      " [[107  52]]\n",
      "\n",
      " [[106  23]]]\n",
      "[29]   [29]\n",
      "++++++++++++++++++++++++++++++++\n",
      "-\n",
      "2\n",
      "[[[ 78  24]]\n",
      "\n",
      " [[105  23]]\n",
      "\n",
      " [[107  51]]\n",
      "\n",
      " [[ 80  53]]]\n",
      "[30]   [29]\n",
      "++++++++++++++++++++++++++++++++\n",
      "-\n",
      "3\n",
      "[[[270  21]]\n",
      "\n",
      " [[269  50]]\n",
      "\n",
      " [[298  50]]\n",
      "\n",
      " [[298  21]]]\n",
      "[29]   [29]\n",
      "++++++++++++++++++++++++++++++++\n",
      "-\n",
      "4\n",
      "[[[269  22]]\n",
      "\n",
      " [[297  21]]\n",
      "\n",
      " [[298  49]]\n",
      "\n",
      " [[271  51]]]\n",
      "[30]   [29]\n",
      "++++++++++++++++++++++++++++++++\n",
      "-\n",
      "5\n",
      "6\n",
      "7\n",
      "8\n",
      "9\n",
      "[[[242  17]]\n",
      "\n",
      " [[241  56]]\n",
      "\n",
      " [[125  55]]\n",
      "\n",
      " [[242  56]]]\n",
      "[39]   [117]\n",
      "++++++++++++++++++++++++++++++++\n",
      "-\n",
      "10\n",
      "11\n",
      "12\n",
      "[[[123  17]]\n",
      "\n",
      " [[123  57]]\n",
      "\n",
      " [[142  58]]\n",
      "\n",
      " [[123  57]]]\n",
      "[41]   [19]\n",
      "++++++++++++++++++++++++++++++++\n",
      "13\n"
     ]
    }
   ],
   "source": [
    "location = None\n",
    "i = 0\n",
    "max_int = -1500\n",
    "\n",
    "for contour in contours:\n",
    "    i+=1\n",
    "    print(i)\n",
    "    epsilon = 0.02 * cv2.arcLength(contour, True)\n",
    "    approx = cv2.approxPolyDP(contour, epsilon, True)\n",
    "    if len(approx) == 4:\n",
    "        # print(max(i[0]))\n",
    "        # print(\"===========\")\n",
    "        max_x = max(approx[:,:,1])\n",
    "        min_x = min(approx[:,:,1])\n",
    "        max_y = max(approx[:,:,0])\n",
    "        min_y = min(approx[:,:,0])\n",
    "        wid = max_x - min_x\n",
    "        hig = max_y - min_y\n",
    "\n",
    "        print(approx)\n",
    "        print(wid, \" \", hig)\n",
    "        print(\"++++++++++++++++++++++++++++++++\")\n",
    "\n",
    "        if wid > 25 and hig > 25:\n",
    "            max_int = max_x\n",
    "            location = approx\n",
    "            print(\"-\")\n"
   ]
  },
  {
   "cell_type": "code",
   "execution_count": 19,
   "metadata": {},
   "outputs": [
    {
     "name": "stderr",
     "output_type": "stream",
     "text": [
      "Neither CUDA nor MPS are available - defaulting to CPU. Note: This module is much faster with a GPU.\n"
     ]
    },
    {
     "name": "stdout",
     "output_type": "stream",
     "text": [
      "1\n"
     ]
    },
    {
     "name": "stderr",
     "output_type": "stream",
     "text": [
      "Neither CUDA nor MPS are available - defaulting to CPU. Note: This module is much faster with a GPU.\n"
     ]
    },
    {
     "name": "stdout",
     "output_type": "stream",
     "text": [
      "2\n"
     ]
    },
    {
     "name": "stderr",
     "output_type": "stream",
     "text": [
      "Neither CUDA nor MPS are available - defaulting to CPU. Note: This module is much faster with a GPU.\n"
     ]
    },
    {
     "name": "stdout",
     "output_type": "stream",
     "text": [
      "3\n"
     ]
    }
   ],
   "source": [
    "location = None\n",
    "i = 0\n",
    "mask = np.zeros(gray.shape, np.uint8)\n",
    "\n",
    "for contour in contours:\n",
    "    i+=1\n",
    "    print(i)\n",
    "    epsilon = 0.02 * cv2.arcLength(contour, True)\n",
    "    approx = cv2.approxPolyDP(contour, epsilon, True)\n",
    "    if len(approx) == 4:\n",
    "        location = approx\n",
    "        new_image = cv2.drawContours(mask, [location], 0, 255, -1)\n",
    "        new_image = cv2.bitwise_and(img, img, mask=mask)\n",
    "\n",
    "        (x, y) = np.where(mask==255)\n",
    "        (x1, y1) = (np.min(x), np.min(y))\n",
    "        (x2, y2) = (np.max(x), np.max(y))\n",
    "        cropped_image = gray[x1:x2+1, y1:y2+1]\n",
    "\n",
    "        reader = easyocr.Reader(['en'])\n",
    "        result = reader.readtext(cropped_image)\n",
    "\n",
    "        if (result!=[]):\n",
    "            break\n"
   ]
  },
  {
   "cell_type": "code",
   "execution_count": 20,
   "metadata": {},
   "outputs": [
    {
     "data": {
      "text/plain": [
       "<matplotlib.image.AxesImage at 0x1f77b4b9810>"
      ]
     },
     "execution_count": 20,
     "metadata": {},
     "output_type": "execute_result"
    },
    {
     "data": {
      "image/png": "[encoded data removed]",
      "text/plain": [
       "<Figure size 640x480 with 1 Axes>"
      ]
     },
     "metadata": {},
     "output_type": "display_data"
    }
   ],
   "source": [
    "plt.imshow(cv2.cvtColor(cropped_image, cv2.COLOR_BGR2RGB))"
   ]
  },
  {
   "cell_type": "code",
   "execution_count": 17,
   "metadata": {},
   "outputs": [
    {
     "name": "stderr",
     "output_type": "stream",
     "text": [
      "Neither CUDA nor MPS are available - defaulting to CPU. Note: This module is much faster with a GPU.\n"
     ]
    },
    {
     "data": {
      "text/plain": [
       "<matplotlib.image.AxesImage at 0x1f777958a90>"
      ]
     },
     "execution_count": 17,
     "metadata": {},
     "output_type": "execute_result"
    },
    {
     "data": {
      "image/png": "[encoded data removed]",
      "text/plain": [
       "<Figure size 640x480 with 1 Axes>"
      ]
     },
     "metadata": {},
     "output_type": "display_data"
    }
   ],
   "source": [
    "mask = np.zeros(gray.shape, np.uint8)\n",
    "new_image = cv2.drawContours(mask, [location], 0, 255, -1)\n",
    "new_image = cv2.bitwise_and(img, img, mask=mask)\n",
    "\n",
    "(x, y) = np.where(mask==255)\n",
    "(x1, y1) = (np.min(x), np.min(y))\n",
    "(x2, y2) = (np.max(x), np.max(y))\n",
    "cropped_image = gray[x1:x2+1, y1:y2+1]\n",
    "\n",
    "reader = easyocr.Reader(['en'])\n",
    "result = reader.readtext(cropped_image)\n",
    "\n",
    "plt.imshow(cv2.cvtColor(cropped_image, cv2.COLOR_BGR2RGB))"
   ]
  },
  {
   "cell_type": "code",
   "execution_count": 21,
   "metadata": {},
   "outputs": [
    {
     "data": {
      "text/plain": [
       "'3'"
      ]
     },
     "execution_count": 21,
     "metadata": {},
     "output_type": "execute_result"
    }
   ],
   "source": [
    "result[0][1]"
   ]
  },
  {
   "cell_type": "code",
   "execution_count": 9,
   "metadata": {},
   "outputs": [],
   "source": [
    "# original_img = cv2.imread(path)\n",
    "# Id = result[0][1].rjust(3, '0')\n",
    "# cv2.imwrite(f'data_label\\\\{Id}.jpg', original_img)"
   ]
  }
 ],
 "metadata": {
  "kernelspec": {
   "display_name": "Python 3",
   "language": "python",
   "name": "python3"
  },
  "language_info": {
   "codemirror_mode": {
    "name": "ipython",
    "version": 3
   },
   "file_extension": ".py",
   "mimetype": "text/x-python",
   "name": "python",
   "nbconvert_exporter": "python",
   "pygments_lexer": "ipython3",
   "version": "3.11.7"
  }
 },
 "nbformat": 4,
 "nbformat_minor": 2
}
