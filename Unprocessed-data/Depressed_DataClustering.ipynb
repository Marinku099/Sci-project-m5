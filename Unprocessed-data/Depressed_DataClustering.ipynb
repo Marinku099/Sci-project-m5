{
  "cells": [
    {
      "cell_type": "code",
      "execution_count": 1,
      "metadata": {
        "id": "njFYGKthx0YM"
      },
      "outputs": [],
      "source": [
        "# import tensorflow as tf\n",
        "import numpy as np\n",
        "import cv2\n",
        "import os\n",
        "from tqdm import tqdm"
      ]
    },
    {
      "cell_type": "code",
      "execution_count": 2,
      "metadata": {
        "id": "48EUIQuwhgNf"
      },
      "outputs": [
        {
          "name": "stderr",
          "output_type": "stream",
          "text": [
            "C:\\Users\\Acer\\AppData\\Local\\Temp\\ipykernel_13084\\3900097976.py:5: DeprecationWarning: \n",
            "Pyarrow will become a required dependency of pandas in the next major release of pandas (pandas 3.0),\n",
            "(to allow more performant data types, such as the Arrow string type, and better interoperability with other libraries)\n",
            "but was not found to be installed on your system.\n",
            "If this would cause problems for you,\n",
            "please provide us feedback at https://github.com/pandas-dev/pandas/issues/54466\n",
            "        \n",
            "  import pandas as pd\n"
          ]
        }
      ],
      "source": [
        "import matplotlib.pyplot as plt\n",
        "from sklearn.cluster import KMeans\n",
        "from sklearn.cluster import Birch\n",
        "from sklearn.mixture import GaussianMixture\n",
        "from sklearn.cluster import AgglomerativeClustering\n",
        "from sklearn.model_selection import train_test_split\n",
        "import pandas as pd"
      ]
    },
    {
      "cell_type": "code",
      "execution_count": 3,
      "metadata": {
        "id": "m1q6Hk62Fx86"
      },
      "outputs": [],
      "source": [
        "from os import listdir\n",
        "from os.path import isfile, join"
      ]
    },
    {
      "cell_type": "code",
      "execution_count": 4,
      "metadata": {
        "id": "tww5XneRH2_8"
      },
      "outputs": [],
      "source": [
        "# not sure the real size\n",
        "width = 450\n",
        "hieght = 550"
      ]
    },
    {
      "cell_type": "code",
      "execution_count": 11,
      "metadata": {},
      "outputs": [],
      "source": [
        "df = pd.read_excel(r\"data\\cdi-data-scan1266.xlsx\", sheet_name=\"depressed-data\")\n",
        "# df = df[[\"ID\",\"Pt\",\"DEP\",\"Age\",\"Sex\"]] #1 = depressed"
      ]
    },
    {
      "cell_type": "code",
      "execution_count": null,
      "metadata": {},
      "outputs": [],
      "source": [
        "keys = []\n",
        "keys.append(\"Age\")\n",
        "keys.append(\"Sex\")\n",
        "keys"
      ]
    },
    {
      "cell_type": "code",
      "execution_count": 13,
      "metadata": {},
      "outputs": [],
      "source": [
        "def labelfeatures(ID):\n",
        "    i = df['Pt'][df['ID']==ID].index\n",
        "    # score = df.loc[0, \"Pt\"]\n",
        "    score = df.loc[i[0], keys]\n",
        "    score.to_numpy()\n",
        "    return score"
      ]
    },
    {
      "cell_type": "code",
      "execution_count": 12,
      "metadata": {},
      "outputs": [],
      "source": [
        "def labelY(ID):\n",
        "    i = df['Pt'][df['ID']==ID].index\n",
        "    # score = df.loc[0, \"Pt\"]\n",
        "    y = df.loc[i[0], \"Pt\"]\n",
        "    return y"
      ]
    },
    {
      "cell_type": "code",
      "execution_count": 14,
      "metadata": {
        "id": "El4klgXVJO7b"
      },
      "outputs": [],
      "source": [
        "def img2data(path):\n",
        "  img_data = []\n",
        "  IDs = []\n",
        "  # features = []\n",
        "  Y = []\n",
        "\n",
        "  for folder in os.listdir(path):\n",
        "    folder_path = os.path.join(path, folder)\n",
        "    for item in tqdm(os.listdir(folder_path)):\n",
        "      filePath = os.path.join(folder_path, item)\n",
        "\n",
        "      # print(item)\n",
        "      ID = int(item.split('.')[0])\n",
        "      IDs.append(ID)\n",
        "      # features.append(labelfeatures(ID))\n",
        "      Y.append(labelY(ID))\n",
        "\n",
        "      img = cv2.imread(filePath, cv2.IMREAD_GRAYSCALE)\n",
        "      # plt.imshow(img)\n",
        "\n",
        "      img = cv2.resize(img , (width, hieght))\n",
        "      # img.flatten()\n",
        "      # img.append(score)\n",
        "      # img = cv2.mean(img)\n",
        "\n",
        "      img_data.append(img)\n",
        "\n",
        "  return img_data, IDs, Y"
      ]
    },
    {
      "cell_type": "code",
      "execution_count": 15,
      "metadata": {
        "colab": {
          "base_uri": "https://localhost:8080/"
        },
        "id": "VOvT9DDMRc5M",
        "outputId": "07aa214d-6ba1-4a24-9a04-3404a11398f3"
      },
      "outputs": [
        {
          "name": "stderr",
          "output_type": "stream",
          "text": [
            "  0%|          | 0/204 [00:00<?, ?it/s]"
          ]
        },
        {
          "name": "stderr",
          "output_type": "stream",
          "text": [
            "100%|██████████| 204/204 [00:12<00:00, 16.51it/s]\n",
            "100%|██████████| 266/266 [00:07<00:00, 33.38it/s]\n"
          ]
        }
      ],
      "source": [
        "img, img_name, Y = img2data(r\"data_label\")\n",
        "# print(img)\n",
        "\n",
        "img = np.asarray(img)\n",
        "\n",
        "flattened_images = img.reshape(img.shape[0], -1)"
      ]
    },
    {
      "cell_type": "code",
      "execution_count": null,
      "metadata": {},
      "outputs": [],
      "source": [
        "# analyze with score feature\n",
        "# images_score = np.column_stack((img, features))"
      ]
    },
    {
      "cell_type": "code",
      "execution_count": 17,
      "metadata": {},
      "outputs": [
        {
          "data": {
            "text/plain": [
              "(470, 247500)"
            ]
          },
          "execution_count": 17,
          "metadata": {},
          "output_type": "execute_result"
        }
      ],
      "source": [
        "# analyze with images only\n",
        "images_score = flattened_images\n",
        "images_score.shape"
      ]
    },
    {
      "cell_type": "code",
      "execution_count": null,
      "metadata": {},
      "outputs": [],
      "source": [
        "k = 2"
      ]
    },
    {
      "cell_type": "code",
      "execution_count": null,
      "metadata": {
        "id": "tw3MiM87kOUo"
      },
      "outputs": [],
      "source": [
        "kmeans = KMeans(k, random_state = 40)\n",
        "kmeans.fit(images_score)"
      ]
    },
    {
      "cell_type": "code",
      "execution_count": 21,
      "metadata": {},
      "outputs": [],
      "source": [
        "birch = Birch(threshold=0.5, n_clusters=k)\n",
        "birch.fit(images_score)"
      ]
    },
    {
      "cell_type": "code",
      "execution_count": null,
      "metadata": {},
      "outputs": [],
      "source": [
        "gaussian = GaussianMixture(n_components=k, random_state=40)\n",
        "gaussian.fit(images_score)"
      ]
    },
    {
      "cell_type": "code",
      "execution_count": null,
      "metadata": {},
      "outputs": [],
      "source": [
        "amt = AgglomerativeClustering(n_clusters=k)\n",
        "amt.fit(images_score)"
      ]
    },
    {
      "cell_type": "code",
      "execution_count": null,
      "metadata": {},
      "outputs": [],
      "source": [
        "image_cluster = pd.DataFrame(img_name, columns=['image'])"
      ]
    },
    {
      "cell_type": "code",
      "execution_count": null,
      "metadata": {},
      "outputs": [],
      "source": [
        "def labelscore(ID):\n",
        "    \n",
        "    i = df['Pt'][df['ID']==ID].index\n",
        "    score = df.loc[i[0], 'Pt']\n",
        "    return score"
      ]
    },
    {
      "cell_type": "code",
      "execution_count": null,
      "metadata": {},
      "outputs": [],
      "source": [
        "image_cluster[\"BIRCH-cluster\"] = birch.labels_\n",
        "image_cluster[\"KMeans-cluster\"] = kmeans.labels_\n",
        "image_cluster[\"Gaussian-cluster\"] = gaussian.predict(images_score)\n",
        "image_cluster[\"Agglomerative-cluster\"] = amt.labels_\n",
        "image_cluster[\"score\"] = Y\n",
        "image_cluster"
      ]
    },
    {
      "cell_type": "code",
      "execution_count": null,
      "metadata": {},
      "outputs": [],
      "source": [
        "def labelClass(ID):\n",
        "    \n",
        "    i = df['DEP'][df['ID']==ID].index\n",
        "    score = df.loc[i[0], 'DEP']\n",
        "    return score\n",
        "\n",
        "def clusterClass(ID):\n",
        "    i = image_cluster['clusterid'][image_cluster['image']==ID].index\n",
        "    # print(i)\n",
        "    score = image_cluster.loc[i[0], 'clusterid']\n",
        "    return score"
      ]
    },
    {
      "cell_type": "code",
      "execution_count": null,
      "metadata": {},
      "outputs": [],
      "source": [
        "y_true = []\n",
        "\n",
        "for id in image_cluster['image']:\n",
        "    y_true.append(labelClass(id))"
      ]
    },
    {
      "cell_type": "code",
      "execution_count": null,
      "metadata": {},
      "outputs": [],
      "source": [
        "from sklearn.metrics.cluster import adjusted_mutual_info_score\n",
        "from sklearn.metrics import f1_score, accuracy_score, confusion_matrix, ConfusionMatrixDisplay"
      ]
    },
    {
      "cell_type": "code",
      "execution_count": null,
      "metadata": {},
      "outputs": [],
      "source": [
        "\n",
        "for Ypred in images_score[-5:-1].columns:\n",
        "    print(Ypred)\n",
        "    print(f\"adjusted_mutual_info_score : {adjusted_mutual_info_score(y_true, image_cluster[Ypred])}\")\n",
        "    print(f\"F1-score : {f1_score(y_true, image_cluster[Ypred])}\")\n",
        "    print(f\"accuracy_score of : {accuracy_score(y_true, image_cluster['cluster'])}\")\n",
        "    print()"
      ]
    },
    {
      "cell_type": "code",
      "execution_count": null,
      "metadata": {},
      "outputs": [],
      "source": [
        "for Ypred in images_score[-5:-1].columns:\n",
        "    cm = confusion_matrix(y_true, image_cluster[Ypred])\n",
        "    disp = ConfusionMatrixDisplay(confusion_matrix=cm)\n",
        "    disp.plot()\n",
        "    plt.show()"
      ]
    },
    {
      "cell_type": "code",
      "execution_count": null,
      "metadata": {},
      "outputs": [],
      "source": [
        "# name_cluster = (\n",
        "#     \"Cluster 0\",\n",
        "#     \"Cluster 1\",\n",
        "# )\n",
        "# weight_counts = {\n",
        "#     \"dep\": cm[0],\n",
        "#     \"no-dep\": cm[1],\n",
        "# }\n",
        "# width = 0.5\n",
        "\n",
        "# fig, ax = plt.subplots()\n",
        "# bottom = np.zeros(2)\n",
        "\n",
        "# for boolean, weight_count in weight_counts.items():\n",
        "#     p = ax.bar(name_cluster, weight_count, width, label=boolean, bottom=bottom)\n",
        "#     bottom += weight_count\n",
        "\n",
        "# ax.set_title(\"Number of depressed in each cluster\")\n",
        "# ax.legend(loc=\"upper right\")\n",
        "\n",
        "# plt.show()"
      ]
    },
    {
      "cell_type": "code",
      "execution_count": null,
      "metadata": {},
      "outputs": [],
      "source": [
        "# centroids = kmeans.cluster_centers_\n",
        "# centroids"
      ]
    },
    {
      "cell_type": "code",
      "execution_count": null,
      "metadata": {},
      "outputs": [],
      "source": [
        "# plt.scatter(image_cluster[\"score\"], images_score[:, 0], c= image_cluster[\"cluster\"], cmap='viridis')\n",
        "# plt.scatter( centroids[:, 1], centroids[:, 0], s=200, c='red', marker='x')\n",
        "# plt.title('K-Means Clustering')\n",
        "# plt.xlabel('color mean')\n",
        "# plt.ylabel('CDI score')\n",
        "# plt.show()"
      ]
    },
    {
      "cell_type": "code",
      "execution_count": null,
      "metadata": {},
      "outputs": [],
      "source": [
        "# import seaborn as sn"
      ]
    },
    {
      "cell_type": "code",
      "execution_count": null,
      "metadata": {},
      "outputs": [],
      "source": [
        "#visulaize\n",
        "\n",
        "# fig = plt.figure(figsize=(300, 100))\n",
        "# rows = 15\n",
        "# columns = 40 \n",
        "# i = 0\n",
        "# for ID in image_cluster[\"image\"][image_cluster['cluster']==1][244:]:\n",
        "#     i += 1\n",
        "#     name = str(ID).rjust(3, '0')\n",
        "#     folname = labelClass(ID)\n",
        "\n",
        "#     if folname == 0:\n",
        "#         folname = \"Depressed\"\n",
        "#     else:\n",
        "#         folname = \"No-Depressed\"\n",
        "#     # 0 = dep\n",
        "#     # 1 = no-dep\n",
        "\n",
        "#     image = cv2.imread(f'data_label\\\\{folname}\\\\{name}.jpg') \n",
        "#     fig.add_subplot(rows, columns, i) \n",
        "\n",
        "#     plt.imshow(image) \n",
        "#     plt.axis('off') "
      ]
    }
  ],
  "metadata": {
    "colab": {
      "provenance": []
    },
    "kernelspec": {
      "display_name": "Python 3",
      "name": "python3"
    },
    "language_info": {
      "codemirror_mode": {
        "name": "ipython",
        "version": 3
      },
      "file_extension": ".py",
      "mimetype": "text/x-python",
      "name": "python",
      "nbconvert_exporter": "python",
      "pygments_lexer": "ipython3",
      "version": "3.11.7"
    }
  },
  "nbformat": 4,
  "nbformat_minor": 0
}
