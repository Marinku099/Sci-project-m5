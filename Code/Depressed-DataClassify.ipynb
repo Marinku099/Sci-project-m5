{
  "cells": [
    {
      "cell_type": "code",
      "execution_count": 1,
      "metadata": {
        "id": "njFYGKthx0YM"
      },
      "outputs": [],
      "source": [
        "import tensorflow as tf\n",
        "import numpy as np\n",
        "import cv2\n",
        "import os\n",
        "from tqdm import tqdm\n",
        "import keras\n",
        "from keras.models import Sequential\n",
        "from keras.layers import Dense, Dropout, Activation, Flatten, GlobalAveragePooling2D\n",
        "from keras.layers import Conv2D, MaxPooling2D, ZeroPadding2D"
      ]
    },
    {
      "cell_type": "code",
      "execution_count": 2,
      "metadata": {
        "id": "48EUIQuwhgNf"
      },
      "outputs": [],
      "source": [
        "import matplotlib.pyplot as plt\n",
        "from sklearn.cluster import KMeans\n",
        "from sklearn import tree\n",
        "from sklearn.model_selection import train_test_split\n",
        "from sklearn.tree import DecisionTreeRegressor\n",
        "import pandas as pd"
      ]
    },
    {
      "cell_type": "code",
      "execution_count": 3,
      "metadata": {},
      "outputs": [],
      "source": [
        "from tensorflow.keras.utils import to_categorical"
      ]
    },
    {
      "cell_type": "code",
      "execution_count": 4,
      "metadata": {
        "id": "m1q6Hk62Fx86"
      },
      "outputs": [],
      "source": [
        "from os import listdir\n",
        "from os.path import isfile, join"
      ]
    },
    {
      "cell_type": "code",
      "execution_count": 5,
      "metadata": {
        "colab": {
          "base_uri": "https://localhost:8080/"
        },
        "id": "ECQXl7YnG8MQ",
        "outputId": "e4727dde-557a-4ff2-da7a-f6fdfbfcbbf7"
      },
      "outputs": [],
      "source": [
        "#!git clone https://github.com/Marinku099/Sci-project-m5.git"
      ]
    },
    {
      "cell_type": "code",
      "execution_count": 6,
      "metadata": {
        "id": "tww5XneRH2_8"
      },
      "outputs": [],
      "source": [
        "# not sure the real size\n",
        "width = 450\n",
        "hieght = 550"
      ]
    },
    {
      "cell_type": "code",
      "execution_count": 7,
      "metadata": {},
      "outputs": [],
      "source": [
        "PATH = r\"D:/Jiw/work/01-school-Work/01-classroom-Work/02-SciProj/Sci-project-m5/data/cdi-data-scan1266.xlsx\"\n",
        "df = pd.read_excel(PATH, sheet_name=r\"depressed-data\")\n",
        "#df = df[[\"ID\",\"Pt\",\"DEP\",\"Age\",\"Sex\"]] #1 = depressed"
      ]
    },
    {
      "cell_type": "code",
      "execution_count": 8,
      "metadata": {},
      "outputs": [
        {
          "data": {
            "text/plain": [
              "'D:/Jiw/work/01-school-Work/01-classroom-Work/02-SciProj/Sci-project-m5/data/cdi-data-scan1266.xlsx'"
            ]
          },
          "execution_count": 8,
          "metadata": {},
          "output_type": "execute_result"
        }
      ],
      "source": [
        "PATH"
      ]
    },
    {
      "cell_type": "code",
      "execution_count": 9,
      "metadata": {},
      "outputs": [],
      "source": [
        "def labelfeatures(ID):\n",
        "    i = df['Pt'][df['ID']==ID].index\n",
        "    # score = df.loc[0, \"Pt\"]\n",
        "    score = df.loc[i[0], [\"Pt\",\"Age\",\"Sex\"]]\n",
        "    score.to_numpy()\n",
        "    return score"
      ]
    },
    {
      "cell_type": "code",
      "execution_count": 10,
      "metadata": {},
      "outputs": [],
      "source": [
        "def labelY(ID):\n",
        "    i = df['DEP'][df['ID']==ID].index\n",
        "    # score = df.loc[0, \"Pt\"]\n",
        "    y = df.loc[i[0], \"DEP\"]\n",
        "    return y"
      ]
    },
    {
      "cell_type": "code",
      "execution_count": 30,
      "metadata": {
        "id": "El4klgXVJO7b"
      },
      "outputs": [],
      "source": [
        "def img2data(path):\n",
        "  img_data = []\n",
        "  DEP = []\n",
        "\n",
        "  IDs = []\n",
        "  features = []\n",
        "\n",
        "  for folder in os.listdir(path):\n",
        "    folder_path = os.path.join(path, folder)\n",
        "    for item in tqdm(os.listdir(folder_path)):\n",
        "      filePath = os.path.join(folder_path, item)\n",
        "\n",
        "      # print(item)\n",
        "      ID = int(item.split('.')[0])\n",
        "      DEP.append(labelY(ID))\n",
        "\n",
        "      IDs.append(ID)\n",
        "      features.append(labelfeatures(ID))\n",
        "      \n",
        "\n",
        "      img = cv2.imread(filePath, cv2.IMREAD_COLOR)\n",
        "      # plt.imshow(img)\n",
        "      img = cv2.resize(img , (224, 224))\n",
        "      # img.append(score)\n",
        "      #img = np.reshape(img, (224, 224, 3))\n",
        "\n",
        "      img_data.append(img)\n",
        "\n",
        "  return img_data, DEP, IDs, features"
      ]
    },
    {
      "cell_type": "code",
      "execution_count": 31,
      "metadata": {
        "colab": {
          "base_uri": "https://localhost:8080/"
        },
        "id": "VOvT9DDMRc5M",
        "outputId": "07aa214d-6ba1-4a24-9a04-3404a11398f3"
      },
      "outputs": [
        {
          "name": "stderr",
          "output_type": "stream",
          "text": [
            "100%|██████████| 186/186 [00:01<00:00, 105.04it/s]\n",
            "100%|██████████| 280/280 [00:02<00:00, 104.04it/s]\n"
          ]
        }
      ],
      "source": [
        "img,Y, img_name, features,  = img2data(r\"D:\\Jiw\\work\\01-school-Work\\01-classroom-Work\\02-SciProj\\Sci-project-m5\\data_label\")\n",
        "#flattened_images = img.reshape(img.shape[0], -1)\n",
        "x_train, x_test, y_train, y_test = train_test_split(img, Y, random_state=0, train_size=.8)\n",
        "# print(img)"
      ]
    },
    {
      "cell_type": "code",
      "execution_count": 32,
      "metadata": {},
      "outputs": [
        {
          "data": {
            "text/plain": [
              "((372, 224, 224, 3), (94, 224, 224, 3), (372, 2), (94, 2))"
            ]
          },
          "execution_count": 32,
          "metadata": {},
          "output_type": "execute_result"
        }
      ],
      "source": [
        "num_class = 2\n",
        "\n",
        "#Polishing data\n",
        "\n",
        "x_train = np.array(x_train)\n",
        "y_train = np.array(y_train)\n",
        "x_test = np.array(x_test)\n",
        "y_test = np.array(y_test)\n",
        "\n",
        "y_train = to_categorical(y_train, num_classes=num_class)\n",
        "y_test = to_categorical(y_test, num_classes=num_class)\n",
        "\n",
        "x_train = x_train.astype('float32')\n",
        "x_test = x_test.astype('float32')\n",
        "\n",
        "x_train /= 255\n",
        "x_test /= 255\n",
        "\n",
        "\n",
        "\n",
        "x_train.shape, x_test.shape, y_train.shape, y_test.shape"
      ]
    },
    {
      "cell_type": "code",
      "execution_count": 33,
      "metadata": {},
      "outputs": [
        {
          "name": "stdout",
          "output_type": "stream",
          "text": [
            "0 InputLayer False\n",
            "1 Conv2D False\n",
            "2 Conv2D False\n",
            "3 MaxPooling2D False\n",
            "4 Conv2D False\n",
            "5 Conv2D False\n",
            "6 MaxPooling2D False\n",
            "7 Conv2D False\n",
            "8 Conv2D False\n",
            "9 Conv2D False\n",
            "10 MaxPooling2D False\n",
            "11 Conv2D False\n",
            "12 Conv2D False\n",
            "13 Conv2D False\n",
            "14 MaxPooling2D False\n",
            "15 Conv2D False\n",
            "16 Conv2D False\n",
            "17 Conv2D False\n",
            "18 MaxPooling2D False\n"
          ]
        }
      ],
      "source": [
        "from keras.applications import vgg16\n",
        "img_rows, img_col = 224,224\n",
        "\n",
        "vgg = vgg16.VGG16(weights='imagenet',\n",
        "                  include_top= False,\n",
        "                  input_shape=(img_rows,img_col,3)\n",
        "                  )\n",
        "\n",
        "for layer in vgg.layers:\n",
        "    layer.trainable = False\n",
        "\n",
        "for (i,layer) in enumerate(vgg.layers):\n",
        "    print(str(i) + \" \" + layer.__class__.__name__, layer.trainable)"
      ]
    },
    {
      "cell_type": "code",
      "execution_count": 34,
      "metadata": {},
      "outputs": [],
      "source": [
        "def lw(bottom_model, num_class):\n",
        "    top_model = bottom_model.output\n",
        "    top_model = GlobalAveragePooling2D()(top_model)\n",
        "    top_model = Dense(1024,activation='relu')(top_model)\n",
        "    top_model = Dense(1024,activation='relu')(top_model)\n",
        "    top_model = Dense(512,activation='relu')(top_model)\n",
        "    top_model = Dense(num_class,activation='softmax')(top_model)\n",
        "    return top_model"
      ]
    },
    {
      "cell_type": "code",
      "execution_count": 35,
      "metadata": {},
      "outputs": [
        {
          "name": "stdout",
          "output_type": "stream",
          "text": [
            "Model: \"model_2\"\n",
            "_________________________________________________________________\n",
            " Layer (type)                Output Shape              Param #   \n",
            "=================================================================\n",
            " input_2 (InputLayer)        [(None, 224, 224, 3)]     0         \n",
            "                                                                 \n",
            " block1_conv1 (Conv2D)       (None, 224, 224, 64)      1792      \n",
            "                                                                 \n",
            " block1_conv2 (Conv2D)       (None, 224, 224, 64)      36928     \n",
            "                                                                 \n",
            " block1_pool (MaxPooling2D)  (None, 112, 112, 64)      0         \n",
            "                                                                 \n",
            " block2_conv1 (Conv2D)       (None, 112, 112, 128)     73856     \n",
            "                                                                 \n",
            " block2_conv2 (Conv2D)       (None, 112, 112, 128)     147584    \n",
            "                                                                 \n",
            " block2_pool (MaxPooling2D)  (None, 56, 56, 128)       0         \n",
            "                                                                 \n",
            " block3_conv1 (Conv2D)       (None, 56, 56, 256)       295168    \n",
            "                                                                 \n",
            " block3_conv2 (Conv2D)       (None, 56, 56, 256)       590080    \n",
            "                                                                 \n",
            " block3_conv3 (Conv2D)       (None, 56, 56, 256)       590080    \n",
            "                                                                 \n",
            " block3_pool (MaxPooling2D)  (None, 28, 28, 256)       0         \n",
            "                                                                 \n",
            " block4_conv1 (Conv2D)       (None, 28, 28, 512)       1180160   \n",
            "                                                                 \n",
            " block4_conv2 (Conv2D)       (None, 28, 28, 512)       2359808   \n",
            "                                                                 \n",
            " block4_conv3 (Conv2D)       (None, 28, 28, 512)       2359808   \n",
            "                                                                 \n",
            " block4_pool (MaxPooling2D)  (None, 14, 14, 512)       0         \n",
            "                                                                 \n",
            " block5_conv1 (Conv2D)       (None, 14, 14, 512)       2359808   \n",
            "                                                                 \n",
            " block5_conv2 (Conv2D)       (None, 14, 14, 512)       2359808   \n",
            "                                                                 \n",
            " block5_conv3 (Conv2D)       (None, 14, 14, 512)       2359808   \n",
            "                                                                 \n",
            " block5_pool (MaxPooling2D)  (None, 7, 7, 512)         0         \n",
            "                                                                 \n",
            " global_average_pooling2d_2  (None, 512)               0         \n",
            "  (GlobalAveragePooling2D)                                       \n",
            "                                                                 \n",
            " dense_8 (Dense)             (None, 1024)              525312    \n",
            "                                                                 \n",
            " dense_9 (Dense)             (None, 1024)              1049600   \n",
            "                                                                 \n",
            " dense_10 (Dense)            (None, 512)               524800    \n",
            "                                                                 \n",
            " dense_11 (Dense)            (None, 2)                 1026      \n",
            "                                                                 \n",
            "=================================================================\n",
            "Total params: 16815426 (64.15 MB)\n",
            "Trainable params: 2100738 (8.01 MB)\n",
            "Non-trainable params: 14714688 (56.13 MB)\n",
            "_________________________________________________________________\n",
            "None\n"
          ]
        }
      ],
      "source": [
        "from keras.models import Model\n",
        "\n",
        "FC_heaed = lw(vgg, num_class)\n",
        "model = Model(inputs = vgg.input, outputs = FC_heaed)\n",
        "print(model.summary())"
      ]
    },
    {
      "cell_type": "code",
      "execution_count": 36,
      "metadata": {},
      "outputs": [],
      "source": [
        "model.compile(optimizer='adam', loss='categorical_crossentropy', metrics=['accuracy'])"
      ]
    },
    {
      "cell_type": "code",
      "execution_count": 37,
      "metadata": {},
      "outputs": [
        {
          "name": "stdout",
          "output_type": "stream",
          "text": [
            "Epoch 1/18\n",
            "12/12 [==============================] - 61s 5s/step - loss: 0.8387 - accuracy: 0.5242 - val_loss: 0.7088 - val_accuracy: 0.4043\n",
            "Epoch 2/18\n",
            "12/12 [==============================] - 62s 5s/step - loss: 0.7082 - accuracy: 0.5161 - val_loss: 0.6761 - val_accuracy: 0.5957\n",
            "Epoch 3/18\n",
            "12/12 [==============================] - 62s 5s/step - loss: 0.6853 - accuracy: 0.6022 - val_loss: 0.6755 - val_accuracy: 0.5957\n",
            "Epoch 4/18\n",
            "12/12 [==============================] - 63s 5s/step - loss: 0.6822 - accuracy: 0.6022 - val_loss: 0.6770 - val_accuracy: 0.5957\n",
            "Epoch 5/18\n",
            "12/12 [==============================] - 62s 5s/step - loss: 0.6735 - accuracy: 0.6022 - val_loss: 0.6776 - val_accuracy: 0.5957\n",
            "Epoch 6/18\n",
            "12/12 [==============================] - 66s 6s/step - loss: 0.6743 - accuracy: 0.6022 - val_loss: 0.6838 - val_accuracy: 0.6064\n",
            "Epoch 7/18\n",
            "12/12 [==============================] - 61s 5s/step - loss: 0.6758 - accuracy: 0.6048 - val_loss: 0.6766 - val_accuracy: 0.5957\n",
            "Epoch 8/18\n",
            "12/12 [==============================] - 64s 5s/step - loss: 0.6697 - accuracy: 0.6022 - val_loss: 0.6790 - val_accuracy: 0.5957\n",
            "Epoch 9/18\n",
            "12/12 [==============================] - 62s 5s/step - loss: 0.6754 - accuracy: 0.6048 - val_loss: 0.6822 - val_accuracy: 0.5957\n",
            "Epoch 10/18\n",
            "12/12 [==============================] - 71s 6s/step - loss: 0.6672 - accuracy: 0.6022 - val_loss: 0.6774 - val_accuracy: 0.5957\n",
            "Epoch 11/18\n",
            "12/12 [==============================] - 62s 5s/step - loss: 0.6654 - accuracy: 0.6048 - val_loss: 0.6788 - val_accuracy: 0.5957\n",
            "Epoch 12/18\n",
            "12/12 [==============================] - 65s 6s/step - loss: 0.6622 - accuracy: 0.6210 - val_loss: 0.7050 - val_accuracy: 0.5957\n",
            "Epoch 13/18\n",
            "12/12 [==============================] - 64s 5s/step - loss: 0.6684 - accuracy: 0.6156 - val_loss: 0.6815 - val_accuracy: 0.6170\n",
            "Epoch 14/18\n",
            "12/12 [==============================] - 64s 5s/step - loss: 0.6474 - accuracy: 0.6371 - val_loss: 0.6885 - val_accuracy: 0.6064\n",
            "Epoch 15/18\n",
            "12/12 [==============================] - 66s 6s/step - loss: 0.6354 - accuracy: 0.6694 - val_loss: 0.7454 - val_accuracy: 0.4787\n",
            "Epoch 16/18\n",
            "12/12 [==============================] - 65s 5s/step - loss: 0.6624 - accuracy: 0.5995 - val_loss: 0.7031 - val_accuracy: 0.5957\n",
            "Epoch 17/18\n",
            "12/12 [==============================] - 68s 6s/step - loss: 0.6522 - accuracy: 0.6344 - val_loss: 0.7049 - val_accuracy: 0.6170\n",
            "Epoch 18/18\n",
            "12/12 [==============================] - 62s 5s/step - loss: 0.6580 - accuracy: 0.6210 - val_loss: 0.6866 - val_accuracy: 0.5532\n"
          ]
        }
      ],
      "source": [
        "history = model.fit(x_train,y_train,\n",
        "                    epochs=18,\n",
        "                    validation_data=(x_test,y_test),\n",
        "                    verbose=1,\n",
        "                    initial_epoch=0)"
      ]
    },
    {
      "cell_type": "code",
      "execution_count": 47,
      "metadata": {},
      "outputs": [
        {
          "name": "stdout",
          "output_type": "stream",
          "text": [
            "3/3 - 11s - loss: 0.6866 - accuracy: 0.5532 - 11s/epoch - 4s/step\n"
          ]
        },
        {
          "data": {
            "image/png": "[encoded data removed]",
            "text/plain": [
              "<Figure size 640x480 with 1 Axes>"
            ]
          },
          "metadata": {},
          "output_type": "display_data"
        },
        {
          "data": {
            "image/png": "[encoded data removed]",
            "text/plain": [
              "<Figure size 640x480 with 1 Axes>"
            ]
          },
          "metadata": {},
          "output_type": "display_data"
        }
      ],
      "source": [
        "plt.plot(history.history['accuracy'], label='accuracy')\n",
        "plt.plot(history.history['val_accuracy'], label='val_accuracy')\n",
        "plt.title('Model accuracy')\n",
        "plt.ylabel('accuracy')\n",
        "plt.xlabel('epoch')\n",
        "\n",
        "plt.legend(['accuracy','val_accuracy'],loc='lower right')\n",
        "\n",
        "test_loss, test_acc = model.evaluate(x_test,  y_test, verbose=2)\n",
        "plt.show()\n",
        "# \"LOSS\"\n",
        "\n",
        "plt.plot(history.history['loss'])\n",
        "plt.plot(history.history['val_loss'])\n",
        "plt.title('Model loss')\n",
        "plt.ylabel('loss')\n",
        "plt.xlabel('epoch')\n",
        "plt.legend(['loss','val_loss'], loc='upper left')\n",
        "plt.show()"
      ]
    },
    {
      "cell_type": "code",
      "execution_count": 39,
      "metadata": {},
      "outputs": [],
      "source": [
        "from sklearn.metrics.cluster import adjusted_mutual_info_score\n",
        "from sklearn.metrics import f1_score, accuracy_score, confusion_matrix, ConfusionMatrixDisplay"
      ]
    },
    {
      "cell_type": "code",
      "execution_count": 51,
      "metadata": {},
      "outputs": [
        {
          "name": "stdout",
          "output_type": "stream",
          "text": [
            "3/3 [==============================] - 11s 4s/step\n"
          ]
        }
      ],
      "source": [
        "y_pred = model.predict(x_test)"
      ]
    },
    {
      "cell_type": "code",
      "execution_count": 52,
      "metadata": {},
      "outputs": [
        {
          "data": {
            "text/html": [
              "<div>\n",
              "<style scoped>\n",
              "    .dataframe tbody tr th:only-of-type {\n",
              "        vertical-align: middle;\n",
              "    }\n",
              "\n",
              "    .dataframe tbody tr th {\n",
              "        vertical-align: top;\n",
              "    }\n",
              "\n",
              "    .dataframe thead th {\n",
              "        text-align: right;\n",
              "    }\n",
              "</style>\n",
              "<table border=\"1\" class=\"dataframe\">\n",
              "  <thead>\n",
              "    <tr style=\"text-align: right;\">\n",
              "      <th></th>\n",
              "      <th>0</th>\n",
              "      <th>1</th>\n",
              "    </tr>\n",
              "  </thead>\n",
              "  <tbody>\n",
              "    <tr>\n",
              "      <th>0</th>\n",
              "      <td>0.565925</td>\n",
              "      <td>0.434075</td>\n",
              "    </tr>\n",
              "    <tr>\n",
              "      <th>1</th>\n",
              "      <td>0.539085</td>\n",
              "      <td>0.460915</td>\n",
              "    </tr>\n",
              "    <tr>\n",
              "      <th>2</th>\n",
              "      <td>0.468242</td>\n",
              "      <td>0.531757</td>\n",
              "    </tr>\n",
              "    <tr>\n",
              "      <th>3</th>\n",
              "      <td>0.604183</td>\n",
              "      <td>0.395817</td>\n",
              "    </tr>\n",
              "    <tr>\n",
              "      <th>4</th>\n",
              "      <td>0.494245</td>\n",
              "      <td>0.505754</td>\n",
              "    </tr>\n",
              "    <tr>\n",
              "      <th>...</th>\n",
              "      <td>...</td>\n",
              "      <td>...</td>\n",
              "    </tr>\n",
              "    <tr>\n",
              "      <th>89</th>\n",
              "      <td>0.559734</td>\n",
              "      <td>0.440266</td>\n",
              "    </tr>\n",
              "    <tr>\n",
              "      <th>90</th>\n",
              "      <td>0.563389</td>\n",
              "      <td>0.436611</td>\n",
              "    </tr>\n",
              "    <tr>\n",
              "      <th>91</th>\n",
              "      <td>0.627295</td>\n",
              "      <td>0.372705</td>\n",
              "    </tr>\n",
              "    <tr>\n",
              "      <th>92</th>\n",
              "      <td>0.433714</td>\n",
              "      <td>0.566286</td>\n",
              "    </tr>\n",
              "    <tr>\n",
              "      <th>93</th>\n",
              "      <td>0.620133</td>\n",
              "      <td>0.379867</td>\n",
              "    </tr>\n",
              "  </tbody>\n",
              "</table>\n",
              "<p>94 rows × 2 columns</p>\n",
              "</div>"
            ],
            "text/plain": [
              "           0         1\n",
              "0   0.565925  0.434075\n",
              "1   0.539085  0.460915\n",
              "2   0.468242  0.531757\n",
              "3   0.604183  0.395817\n",
              "4   0.494245  0.505754\n",
              "..       ...       ...\n",
              "89  0.559734  0.440266\n",
              "90  0.563389  0.436611\n",
              "91  0.627295  0.372705\n",
              "92  0.433714  0.566286\n",
              "93  0.620133  0.379867\n",
              "\n",
              "[94 rows x 2 columns]"
            ]
          },
          "execution_count": 52,
          "metadata": {},
          "output_type": "execute_result"
        }
      ],
      "source": [
        "pd.DataFrame(y_pred)"
      ]
    },
    {
      "cell_type": "code",
      "execution_count": 53,
      "metadata": {},
      "outputs": [],
      "source": [
        "# Assuming you have already trained your model and have x_test and y_test\n",
        "y_pred = np.argmax(y_pred, axis=1)  # Convert probabilities to class labels\n",
        "#y_test = np.argmax(y_test, axis=1)  # Convert one-hot encoded labels to class labels\n",
        "Y_train = np.argmax(y_test, axis=1)"
      ]
    },
    {
      "cell_type": "code",
      "execution_count": 55,
      "metadata": {},
      "outputs": [
        {
          "name": "stdout",
          "output_type": "stream",
          "text": [
            "-0.009198221045716071\n",
            "0.22222222222222218\n",
            "0.5531914893617021\n"
          ]
        }
      ],
      "source": [
        "print(adjusted_mutual_info_score(Y_train, y_pred))\n",
        "print(f1_score(Y_train, y_pred))\n",
        "print(accuracy_score(Y_train, y_pred))"
      ]
    },
    {
      "cell_type": "code",
      "execution_count": 56,
      "metadata": {},
      "outputs": [
        {
          "data": {
            "text/plain": [
              "array([0, 0, 1, 0, 1, 0, 0, 1, 0, 0, 0, 1, 0, 0, 1, 0, 0, 1, 0, 0, 0, 0,\n",
              "       0, 0, 0, 0, 0, 1, 0, 0, 0, 1, 1, 0, 0, 0, 0, 0, 1, 0, 0, 0, 0, 0,\n",
              "       0, 0, 1, 0, 0, 0, 0, 0, 0, 0, 0, 0, 0, 0, 0, 0, 0, 0, 0, 0, 0, 0,\n",
              "       0, 0, 1, 1, 0, 0, 0, 1, 0, 0, 0, 0, 0, 1, 0, 0, 0, 0, 0, 0, 0, 0,\n",
              "       0, 0, 0, 0, 1, 0], dtype=int64)"
            ]
          },
          "execution_count": 56,
          "metadata": {},
          "output_type": "execute_result"
        }
      ],
      "source": [
        "y_pred"
      ]
    },
    {
      "cell_type": "code",
      "execution_count": 58,
      "metadata": {},
      "outputs": [
        {
          "data": {
            "image/png": "[encoded data removed]",
            "text/plain": [
              "<Figure size 640x480 with 2 Axes>"
            ]
          },
          "metadata": {},
          "output_type": "display_data"
        }
      ],
      "source": [
        "result = confusion_matrix(Y_train, y_pred, normalize='pred')\n",
        "disp = ConfusionMatrixDisplay(confusion_matrix=result)\n",
        "    \n",
        "disp.plot()\n",
        "plt.show()"
      ]
    },
    {
      "cell_type": "code",
      "execution_count": 59,
      "metadata": {},
      "outputs": [
        {
          "ename": "FileNotFoundError",
          "evalue": "[WinError 3] The system cannot find the path specified: 'data_label'",
          "output_type": "error",
          "traceback": [
            "\u001b[1;31m---------------------------------------------------------------------------\u001b[0m",
            "\u001b[1;31mFileNotFoundError\u001b[0m                         Traceback (most recent call last)",
            "Cell \u001b[1;32mIn[59], line 5\u001b[0m\n\u001b[0;32m      2\u001b[0m testPath \u001b[38;5;241m=\u001b[39m \u001b[38;5;124mr\u001b[39m\u001b[38;5;124m\"\u001b[39m\u001b[38;5;124mdata_label\u001b[39m\u001b[38;5;124m\"\u001b[39m\n\u001b[0;32m      4\u001b[0m \u001b[38;5;28;01mfor\u001b[39;00m imgPath \u001b[38;5;129;01min\u001b[39;00m (testPath):\n\u001b[1;32m----> 5\u001b[0m     \u001b[38;5;28;01mfor\u001b[39;00m item \u001b[38;5;129;01min\u001b[39;00m (\u001b[43mos\u001b[49m\u001b[38;5;241;43m.\u001b[39;49m\u001b[43mlistdir\u001b[49m\u001b[43m(\u001b[49m\u001b[43mtestPath\u001b[49m\u001b[43m)\u001b[49m):\n\u001b[0;32m      6\u001b[0m         file \u001b[38;5;241m=\u001b[39m os\u001b[38;5;241m.\u001b[39mpath\u001b[38;5;241m.\u001b[39mjoin(testPath, item)\n\u001b[0;32m      7\u001b[0m         \u001b[38;5;28;01mif\u001b[39;00m item\u001b[38;5;241m.\u001b[39msplit(\u001b[38;5;124m'\u001b[39m\u001b[38;5;124m.\u001b[39m\u001b[38;5;124m'\u001b[39m)[\u001b[38;5;241m0\u001b[39m] \u001b[38;5;241m!=\u001b[39m \u001b[38;5;124m\"\u001b[39m\u001b[38;5;124m\"\u001b[39m:\n",
            "\u001b[1;31mFileNotFoundError\u001b[0m: [WinError 3] The system cannot find the path specified: 'data_label'"
          ]
        }
      ],
      "source": [
        "rimg = []\n",
        "testPath = r\"data_label\"\n",
        "\n",
        "for imgPath in (testPath):\n",
        "    for item in (os.listdir(testPath)):\n",
        "        file = os.path.join(testPath, item)\n",
        "        if item.split('.')[0] != \"\":\n",
        "            img = cv2.imread(file, cv2.IMREAD_GRAYSCALE)\n",
        "            img\n",
        "            img = cv2.resize(img , (width, hieght))\n",
        "\n",
        "            rimg = np.array(img)\n",
        "            rimg = rimg.astype('float32')\n",
        "\n",
        "            predict = model.predict(rimg)\n",
        "            label = ['DEP','un DEP']\n",
        "            result = label[int(predict)]\n",
        "            print('real:' + str(item))\n",
        "            print('predict' + str(result))"
      ]
    }
  ],
  "metadata": {
    "colab": {
      "provenance": []
    },
    "kernelspec": {
      "display_name": "Python 3",
      "name": "python3"
    },
    "language_info": {
      "codemirror_mode": {
        "name": "ipython",
        "version": 3
      },
      "file_extension": ".py",
      "mimetype": "text/x-python",
      "name": "python",
      "nbconvert_exporter": "python",
      "pygments_lexer": "ipython3",
      "version": "3.8.2"
    }
  },
  "nbformat": 4,
  "nbformat_minor": 0
}
